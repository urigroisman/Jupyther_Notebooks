{
 "cells": [
  {
   "cell_type": "code",
   "execution_count": null,
   "metadata": {
    "id": "7jxRXwC8BfWq"
   },
   "outputs": [],
   "source": [
    "# Introduction"
   ]
  },
  {
   "cell_type": "markdown",
   "metadata": {
    "id": "Qf63yTdEBfWu"
   },
   "source": [
    "**Before starting**: Learn the commands\n",
    "\n",
    "* ESC to unhighlight cell and be in command mode. ENTER to go into cell and type\n",
    "* \"a\" to create new cell above, \"b\" to create new cell below\n",
    "* \"dd\" (type d very fast twice) to delete cell. To undo, use \"z\"\n",
    "* \"shift\" and \"enter\" at the same time to run cell"
   ]
  },
  {
   "cell_type": "markdown",
   "metadata": {
    "id": "h4hH2cUZBfWv"
   },
   "source": [
    "### Plugging in numerical Expressions"
   ]
  },
  {
   "cell_type": "code",
   "execution_count": 1,
   "metadata": {
    "id": "azhly0BHBfWw"
   },
   "outputs": [
    {
     "data": {
      "text/plain": [
       "2"
      ]
     },
     "execution_count": 1,
     "metadata": {},
     "output_type": "execute_result"
    }
   ],
   "source": [
    "17%5"
   ]
  },
  {
   "cell_type": "code",
   "execution_count": null,
   "metadata": {
    "id": "WVvMjpFMBfWx"
   },
   "outputs": [],
   "source": [
    "4*5+6"
   ]
  },
  {
   "cell_type": "code",
   "execution_count": null,
   "metadata": {
    "id": "POFxj_8BBfWy"
   },
   "outputs": [],
   "source": [
    "14//5"
   ]
  },
  {
   "cell_type": "markdown",
   "metadata": {
    "id": "TIZgN-1KBfWz"
   },
   "source": [
    "### Variables"
   ]
  },
  {
   "cell_type": "code",
   "execution_count": null,
   "metadata": {
    "id": "EnB-f5cWBfW0"
   },
   "outputs": [],
   "source": [
    "x = 10"
   ]
  },
  {
   "cell_type": "code",
   "execution_count": null,
   "metadata": {
    "id": "RoZ0veLFBfW0"
   },
   "outputs": [],
   "source": [
    "x = 3"
   ]
  },
  {
   "cell_type": "code",
   "execution_count": null,
   "metadata": {
    "id": "QVoC-DHnBfW1",
    "outputId": "68452a08-500b-49f3-efa3-343efd368d11"
   },
   "outputs": [
    {
     "data": {
      "text/plain": [
       "9"
      ]
     },
     "execution_count": 6,
     "metadata": {},
     "output_type": "execute_result"
    }
   ],
   "source": [
    "x**2"
   ]
  },
  {
   "cell_type": "code",
   "execution_count": null,
   "metadata": {
    "id": "svFUPXFyBfW2"
   },
   "outputs": [],
   "source": [
    "x = 'ca{}t'.format('s')"
   ]
  },
  {
   "cell_type": "code",
   "execution_count": null,
   "metadata": {
    "id": "gr2yLIKzBfW2"
   },
   "outputs": [],
   "source": [
    "age = 25.456456456456"
   ]
  },
  {
   "cell_type": "code",
   "execution_count": null,
   "metadata": {
    "id": "xQ5MigTWBfW3"
   },
   "outputs": [],
   "source": [
    "x = 'I am {:.0f} years old'.format(age)"
   ]
  },
  {
   "cell_type": "code",
   "execution_count": null,
   "metadata": {
    "id": "AUQP8HTFBfW3",
    "outputId": "19947f51-df65-47cc-e99d-2a7a0240396b"
   },
   "outputs": [
    {
     "data": {
      "text/plain": [
       "'I am 25 years old'"
      ]
     },
     "execution_count": 10,
     "metadata": {},
     "output_type": "execute_result"
    }
   ],
   "source": [
    "x"
   ]
  },
  {
   "cell_type": "markdown",
   "metadata": {
    "id": "QbtbPd0NBfW5"
   },
   "source": [
    "### Lists, Tuples, Dictionaries, Arrays"
   ]
  },
  {
   "cell_type": "markdown",
   "metadata": {
    "id": "6l-hR1Z-BfW5"
   },
   "source": [
    "List"
   ]
  },
  {
   "cell_type": "code",
   "execution_count": null,
   "metadata": {
    "id": "VyVOAOmgBfW6"
   },
   "outputs": [],
   "source": [
    "x = [1, 3, 5, 6, 'cat', [1,2]]\n",
    "y = ['dog', 'horse']"
   ]
  },
  {
   "cell_type": "code",
   "execution_count": null,
   "metadata": {
    "id": "t5RA2UdyBfW8"
   },
   "outputs": [],
   "source": [
    "x.append(5)"
   ]
  },
  {
   "cell_type": "code",
   "execution_count": null,
   "metadata": {
    "id": "AW8qJsMVBfW9",
    "outputId": "61526742-8412-4f2d-b150-70bf25810082"
   },
   "outputs": [
    {
     "data": {
      "text/plain": [
       "[1, 3, 5, 6, 'cat', [1, 2], 5, 'dog', 'horse']"
      ]
     },
     "execution_count": 13,
     "metadata": {},
     "output_type": "execute_result"
    }
   ],
   "source": [
    "x+y"
   ]
  },
  {
   "cell_type": "code",
   "execution_count": null,
   "metadata": {
    "id": "T_839jCaBfW-"
   },
   "outputs": [],
   "source": [
    "x[1] = 2"
   ]
  },
  {
   "cell_type": "code",
   "execution_count": null,
   "metadata": {
    "id": "Ta70sQsjBfW-",
    "outputId": "7dc33dba-1b92-4d2c-dbe1-dfe1229b610d"
   },
   "outputs": [
    {
     "data": {
      "text/plain": [
       "[1, 2, 5, 6, 'cat', [1, 2], 5]"
      ]
     },
     "execution_count": 15,
     "metadata": {},
     "output_type": "execute_result"
    }
   ],
   "source": [
    "x"
   ]
  },
  {
   "cell_type": "markdown",
   "metadata": {
    "id": "kaSwzKfGBfW_"
   },
   "source": [
    "Tuple"
   ]
  },
  {
   "cell_type": "code",
   "execution_count": null,
   "metadata": {
    "id": "6KvD21iSBfXA"
   },
   "outputs": [],
   "source": [
    "x = (1,2,3,'pete',[1,2])"
   ]
  },
  {
   "cell_type": "code",
   "execution_count": null,
   "metadata": {
    "id": "lD0Dp6FxBfXA",
    "outputId": "e560f395-3ecf-450a-9f52-b00aac404a8b"
   },
   "outputs": [
    {
     "data": {
      "text/plain": [
       "(1, 2, 3, 'pete', [1, 2])"
      ]
     },
     "execution_count": 17,
     "metadata": {},
     "output_type": "execute_result"
    }
   ],
   "source": [
    "x"
   ]
  },
  {
   "cell_type": "markdown",
   "metadata": {
    "id": "wxRrEWhtBfXB"
   },
   "source": [
    "Dict"
   ]
  },
  {
   "cell_type": "code",
   "execution_count": null,
   "metadata": {
    "id": "6vTCM3iMBfXC"
   },
   "outputs": [],
   "source": [
    "d = {'cat':'feline', 678:4}"
   ]
  },
  {
   "cell_type": "code",
   "execution_count": null,
   "metadata": {
    "id": "403Ek4MlBfXC",
    "outputId": "3f5bbcc7-c5ca-4607-9c2f-9296c87ae625"
   },
   "outputs": [
    {
     "data": {
      "text/plain": [
       "4"
      ]
     },
     "execution_count": 19,
     "metadata": {},
     "output_type": "execute_result"
    }
   ],
   "source": [
    "d[678]"
   ]
  },
  {
   "cell_type": "markdown",
   "metadata": {
    "id": "rs8SQMIDBfXD"
   },
   "source": [
    "Array"
   ]
  },
  {
   "cell_type": "code",
   "execution_count": null,
   "metadata": {
    "id": "Dx0AAdc-BfXD"
   },
   "outputs": [],
   "source": [
    "import numpy as np"
   ]
  },
  {
   "cell_type": "code",
   "execution_count": null,
   "metadata": {
    "id": "I58BUTuqBfXE"
   },
   "outputs": [],
   "source": [
    "x = np.array([1,5,8,6])"
   ]
  },
  {
   "cell_type": "code",
   "execution_count": null,
   "metadata": {
    "id": "pMN_AaJfBfXE"
   },
   "outputs": [],
   "source": [
    "x = np.linspace(0, 20, 10)"
   ]
  },
  {
   "cell_type": "code",
   "execution_count": null,
   "metadata": {
    "id": "cZU3atdXBfXG"
   },
   "outputs": [],
   "source": [
    "x = np.arange(0, 20, 2)"
   ]
  },
  {
   "cell_type": "markdown",
   "metadata": {
    "id": "MXa6eT39BfXH"
   },
   "source": [
    "### Plotting"
   ]
  },
  {
   "cell_type": "code",
   "execution_count": null,
   "metadata": {
    "id": "vpPZHUDaBfXH"
   },
   "outputs": [],
   "source": [
    "import matplotlib.pyplot as plt"
   ]
  },
  {
   "cell_type": "code",
   "execution_count": null,
   "metadata": {
    "id": "HbkmQUCmBfXJ"
   },
   "outputs": [],
   "source": [
    "x = np.linspace(0,1,10)\n",
    "y = x**2"
   ]
  },
  {
   "cell_type": "code",
   "execution_count": null,
   "metadata": {
    "id": "-kV7zpVwBfXJ",
    "outputId": "7f106423-2624-42b1-bc34-c9560b991d03"
   },
   "outputs": [
    {
     "data": {
      "image/png": "[encoded data removed]",
      "text/plain": [
       "<Figure size 432x288 with 1 Axes>"
      ]
     },
     "metadata": {
      "needs_background": "light"
     },
     "output_type": "display_data"
    }
   ],
   "source": [
    "plt.plot(x,y,'ro--')\n",
    "plt.xlabel('x', fontsize=15)\n",
    "plt.ylabel('y', fontsize=15)\n",
    "plt.grid()"
   ]
  },
  {
   "cell_type": "markdown",
   "metadata": {
    "id": "o3-mPK5TBfXL"
   },
   "source": [
    "### forloops"
   ]
  },
  {
   "cell_type": "markdown",
   "metadata": {
    "id": "cSfgPZXuBfXL"
   },
   "source": [
    "Master all 5!"
   ]
  },
  {
   "cell_type": "markdown",
   "metadata": {
    "id": "R8IBtN8CBfXM"
   },
   "source": [
    "1. Regular loop"
   ]
  },
  {
   "cell_type": "code",
   "execution_count": null,
   "metadata": {
    "id": "wPPuLP0DBfXM"
   },
   "outputs": [],
   "source": [
    "lst = []\n",
    "for i in range(21):\n",
    "    lst.append(i**3)"
   ]
  },
  {
   "cell_type": "markdown",
   "metadata": {
    "id": "d4oaEBewBfXN"
   },
   "source": [
    "2. List loop"
   ]
  },
  {
   "cell_type": "code",
   "execution_count": null,
   "metadata": {
    "id": "4CCwhilcBfXN",
    "outputId": "1a250e2a-d463-483d-f2ac-bed3c20d7dbd"
   },
   "outputs": [
    {
     "name": "stdout",
     "output_type": "stream",
     "text": [
      "fog\n",
      "cat\n",
      "horse\n"
     ]
    }
   ],
   "source": [
    "lst = ['fog', 'cat', 'horse']\n",
    "for item in lst:\n",
    "    print(item)"
   ]
  },
  {
   "cell_type": "markdown",
   "metadata": {
    "id": "uCcxrhhqBfXO"
   },
   "source": [
    "3. Enumeration loop"
   ]
  },
  {
   "cell_type": "code",
   "execution_count": null,
   "metadata": {
    "id": "kMAYan3NBfXP",
    "outputId": "ca8a3cf8-e9f0-4388-af45-d641e7c7e597"
   },
   "outputs": [
    {
     "name": "stdout",
     "output_type": "stream",
     "text": [
      "Index 0 contains fog\n",
      "Index 1 contains cat\n",
      "Index 2 contains horse\n"
     ]
    }
   ],
   "source": [
    "lst = ['fog', 'cat', 'horse']\n",
    "for i, item in enumerate(lst):\n",
    "    print('Index {} contains {}'.format(i, item))"
   ]
  },
  {
   "cell_type": "markdown",
   "metadata": {
    "id": "umSRs-1sBfXQ"
   },
   "source": [
    "4. List comprehension loop"
   ]
  },
  {
   "cell_type": "code",
   "execution_count": null,
   "metadata": {
    "id": "MldzGDKjBfXR"
   },
   "outputs": [],
   "source": [
    "lst = [i**3 for i in range(21)]"
   ]
  },
  {
   "cell_type": "markdown",
   "metadata": {
    "id": "jivGnnpTBfXR"
   },
   "source": [
    "5. Double forloop"
   ]
  },
  {
   "cell_type": "code",
   "execution_count": null,
   "metadata": {
    "id": "GljugC65BfXS",
    "outputId": "dbdf8710-5bbe-4725-e591-a51c3ba8f57a"
   },
   "outputs": [
    {
     "name": "stdout",
     "output_type": "stream",
     "text": [
      "i=0 j=0\n",
      "i=0 j=1\n",
      "i=0 j=2\n",
      "i=0 j=3\n",
      "i=0 j=4\n",
      "i=1 j=0\n",
      "i=1 j=1\n",
      "i=1 j=2\n",
      "i=1 j=3\n",
      "i=1 j=4\n",
      "i=2 j=0\n",
      "i=2 j=1\n",
      "i=2 j=2\n",
      "i=2 j=3\n",
      "i=2 j=4\n",
      "i=3 j=0\n",
      "i=3 j=1\n",
      "i=3 j=2\n",
      "i=3 j=3\n",
      "i=3 j=4\n",
      "i=4 j=0\n",
      "i=4 j=1\n",
      "i=4 j=2\n",
      "i=4 j=3\n",
      "i=4 j=4\n"
     ]
    }
   ],
   "source": [
    "for i in range(5):\n",
    "    for j in range(5):\n",
    "        print('i={} j={}'.format(i,j))"
   ]
  },
  {
   "cell_type": "markdown",
   "metadata": {
    "id": "pXihTEZjBfXS"
   },
   "source": [
    "### booleans and if statements"
   ]
  },
  {
   "cell_type": "code",
   "execution_count": null,
   "metadata": {
    "id": "RbI-gEwhBfXT"
   },
   "outputs": [],
   "source": [
    "a = True\n",
    "b = False"
   ]
  },
  {
   "cell_type": "code",
   "execution_count": null,
   "metadata": {
    "id": "vWwOrtCbBfXT"
   },
   "outputs": [],
   "source": [
    "i = 0"
   ]
  },
  {
   "cell_type": "code",
   "execution_count": null,
   "metadata": {
    "id": "hOZJwB0lBfXU",
    "outputId": "33ce3024-74fd-457f-e778-8c33aa981e0e"
   },
   "outputs": [
    {
     "name": "stdout",
     "output_type": "stream",
     "text": [
      "yes\n"
     ]
    }
   ],
   "source": [
    "if i==0:\n",
    "    print('yes')"
   ]
  },
  {
   "cell_type": "code",
   "execution_count": null,
   "metadata": {
    "id": "a36cLKXYBfXU"
   },
   "outputs": [],
   "source": [
    "i = 0\n",
    "j = 4"
   ]
  },
  {
   "cell_type": "code",
   "execution_count": null,
   "metadata": {
    "id": "A6ZlzRXnBfXV",
    "outputId": "dc8bb25f-1ecc-4ac8-dbba-7664a883b3b2"
   },
   "outputs": [
    {
     "name": "stdout",
     "output_type": "stream",
     "text": [
      "yes\n"
     ]
    }
   ],
   "source": [
    "if i==0 or j==3 :\n",
    "    print('yes')"
   ]
  },
  {
   "cell_type": "code",
   "execution_count": null,
   "metadata": {
    "id": "wFPcM9YRBfXW",
    "outputId": "06f5e94d-0f09-4525-9bbc-e8f3f8789270"
   },
   "outputs": [
    {
     "name": "stdout",
     "output_type": "stream",
     "text": [
      "yes\n"
     ]
    }
   ],
   "source": [
    "if 4:\n",
    "    print('yes')"
   ]
  },
  {
   "cell_type": "code",
   "execution_count": null,
   "metadata": {
    "id": "IsMqd0ZpBfXW"
   },
   "outputs": [],
   "source": [
    "a = 'at' in 'cat'"
   ]
  },
  {
   "cell_type": "code",
   "execution_count": null,
   "metadata": {
    "id": "YIar6AJmBfXX",
    "outputId": "dd8306af-3f57-4163-ffa2-5d65e4e97a00"
   },
   "outputs": [
    {
     "name": "stdout",
     "output_type": "stream",
     "text": [
      "yes\n"
     ]
    }
   ],
   "source": [
    "if 'at' in 'cat':\n",
    "    print('yes')"
   ]
  },
  {
   "cell_type": "markdown",
   "metadata": {
    "id": "-ysNY-YpBfXX"
   },
   "source": [
    "# Problems"
   ]
  },
  {
   "cell_type": "markdown",
   "metadata": {
    "id": "GedOKB3gBfXY"
   },
   "source": [
    "### Problem 1:"
   ]
  },
  {
   "cell_type": "markdown",
   "metadata": {
    "id": "BmwCVJVLBfXY"
   },
   "source": [
    "The equation for the height of a thrown ball is $y = -1/2 g t^2 + v_0 t$ where\n",
    "\n",
    "* $t$ is time\n",
    "* $y$ is the height of the ball\n",
    "* $v_0$ is the initial upward speed of the ball\n",
    "* $g$ is gravity\n",
    "\n",
    "Jim throws his ball at 10m/s and Mark throws his at 15m/s upward. Plot the heigh of each of their ball as a function of time from 0 to 2 seconds"
   ]
  },
  {
   "cell_type": "code",
   "execution_count": null,
   "metadata": {
    "id": "uVENpjNsBfXZ"
   },
   "outputs": [],
   "source": [
    "t = np.linspace(0,2,100)\n",
    "g = 9.81\n",
    "v0_j = 10\n",
    "v0_m = 15\n"
   ]
  },
  {
   "cell_type": "code",
   "execution_count": null,
   "metadata": {
    "id": "Ii6fjFWhBfXa"
   },
   "outputs": [],
   "source": [
    "y_j = -1/2 * g * t**2 + v0_j*t\n",
    "y_m = -1/2 * g * t**2 + v0_m*t"
   ]
  },
  {
   "cell_type": "code",
   "execution_count": null,
   "metadata": {
    "id": "iVbzewWGBfXb",
    "outputId": "faf70118-4687-4da2-8fda-f4edb4f4ed29"
   },
   "outputs": [
    {
     "data": {
      "text/plain": [
       "<matplotlib.legend.Legend at 0x2536362ddf0>"
      ]
     },
     "execution_count": 42,
     "metadata": {},
     "output_type": "execute_result"
    },
    {
     "data": {
      "image/png": "[encoded data removed]",
      "text/plain": [
       "<Figure size 432x288 with 1 Axes>"
      ]
     },
     "metadata": {
      "needs_background": "light"
     },
     "output_type": "display_data"
    }
   ],
   "source": [
    "plt.plot(t, y_j, label='Jim')\n",
    "plt.plot(t, y_m, label='Mark')\n",
    "plt.xlabel('Time')\n",
    "plt.ylabel('Height')\n",
    "plt.grid()\n",
    "plt.legend()"
   ]
  },
  {
   "cell_type": "markdown",
   "metadata": {
    "id": "RGBWRnOxBfXc"
   },
   "source": [
    "### Problem 2:\n",
    "\n",
    "The poem below is organized such that each poem line is a new element in the list\n",
    "\n",
    "`poem=['when day comes we ask ourselves,',\\\n",
    "    'where can we find light in this never-ending shade?',\\\n",
    "    'the loss we carry,',\\\n",
    "    'a sea we must wade',\\\n",
    "    \"we've braved the belly of the beast\",\\\n",
    "    \"we've learned that quiet isn't always peace\",\\\n",
    "    \"and the norms and notions\",\\\n",
    "    \"of what just is\"]`\n",
    "    \n",
    "Loop through the lines of the poem, and if the line contains the substring `'we'`, then print `'line __ contains we'` where `'__'` is the line number."
   ]
  },
  {
   "cell_type": "code",
   "execution_count": null,
   "metadata": {
    "id": "B7uVvM_4BfXd"
   },
   "outputs": [],
   "source": [
    "poem=['when day comes we ask ourselves,',\n",
    "    'where can we find light in this never-ending shade?',\n",
    "    'the loss we carry,',\n",
    "    'a sea we must wade',\n",
    "    \"we've braved the belly of the beast\",\n",
    "    \"we've learned that quiet isn't always peace\",\n",
    "    \"and the norms and notions\",\n",
    "    \"of what just is\"]"
   ]
  },
  {
   "cell_type": "code",
   "execution_count": null,
   "metadata": {
    "id": "iGvmfOieBfXe",
    "outputId": "bbd0040a-f302-4867-9e0b-b29937471ebb"
   },
   "outputs": [
    {
     "name": "stdout",
     "output_type": "stream",
     "text": [
      "Line 0 contains we\n",
      "Line 1 contains we\n",
      "Line 2 contains we\n",
      "Line 3 contains we\n",
      "Line 4 contains we\n",
      "Line 5 contains we\n"
     ]
    }
   ],
   "source": [
    "for i, line in enumerate(poem):\n",
    "    if 'we' in line:\n",
    "        print('Line {} contains we'.format(i))"
   ]
  },
  {
   "cell_type": "markdown",
   "metadata": {
    "id": "_H_Qk3ajBfXe"
   },
   "source": [
    "### Problem 3\n",
    "\n",
    "Add up every number from 1 to 999999, except for those that can be divided by 4, and those that can be divided by 6"
   ]
  },
  {
   "cell_type": "code",
   "execution_count": null,
   "metadata": {
    "id": "0Z8Dhg5PBfXf"
   },
   "outputs": [],
   "source": [
    "summation = 0\n",
    "for i in range(1000000):\n",
    "    if not(i%4==0) and not(i%6==0):\n",
    "        summation = summation + i"
   ]
  },
  {
   "cell_type": "code",
   "execution_count": null,
   "metadata": {
    "id": "ZKlaqUDIBfXg",
    "outputId": "632d6bd8-b554-41e5-e175-cee9a383ff1d"
   },
   "outputs": [
    {
     "data": {
      "text/plain": [
       "333333666666"
      ]
     },
     "execution_count": 46,
     "metadata": {},
     "output_type": "execute_result"
    }
   ],
   "source": [
    "summation"
   ]
  }
 ],
 "metadata": {
  "colab": {
   "name": "Copia de vid1.ipynb",
   "provenance": [
    {
     "file_id": "https://github.com/urigroisman/youtube_channel/blob/main/Python%20Tutorial%20Series/vid1.ipynb",
     "timestamp": 1633799265010
    }
   ]
  },
  "kernelspec": {
   "display_name": "Python 3",
   "language": "python",
   "name": "python3"
  },
  "language_info": {
   "codemirror_mode": {
    "name": "ipython",
    "version": 3
   },
   "file_extension": ".py",
   "mimetype": "text/x-python",
   "name": "python",
   "nbconvert_exporter": "python",
   "pygments_lexer": "ipython3",
   "version": "3.8.8"
  }
 },
 "nbformat": 4,
 "nbformat_minor": 1
}
