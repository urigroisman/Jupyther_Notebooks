{
 "cells": [
  {
   "cell_type": "code",
   "execution_count": null,
   "metadata": {
    "id": "UbAHv3LcAolc"
   },
   "outputs": [],
   "source": [
    "import numpy as np\n",
    "import matplotlib.pyplot as plt"
   ]
  },
  {
   "cell_type": "markdown",
   "metadata": {
    "id": "cM3jboMAAolh"
   },
   "source": [
    "# Creating Arrays"
   ]
  },
  {
   "cell_type": "code",
   "execution_count": null,
   "metadata": {
    "id": "sxswZK2yAolj"
   },
   "outputs": [],
   "source": [
    "a1 = np.array([4,6,8,2])\n",
    "a2 = np.zeros(10)\n",
    "a3 = np.ones(4)\n",
    "a4 = np.random.random(10)\n",
    "a5 = np.random.randn(10)\n",
    "a6 = np.linspace(0, 10, 100)\n",
    "a7 = np.arange(0, 10, 0.2)"
   ]
  },
  {
   "cell_type": "markdown",
   "metadata": {
    "id": "Z6G_NMc7Aolk"
   },
   "source": [
    "# Array Operations"
   ]
  },
  {
   "cell_type": "code",
   "execution_count": null,
   "metadata": {
    "id": "Q3uN5uJ6Aolk",
    "outputId": "13f00371-31e7-4ff4-dc79-952366077bf4"
   },
   "outputs": [
    {
     "data": {
      "text/plain": [
       "array([ 8, 12, 16,  4])"
      ]
     },
     "execution_count": 9,
     "metadata": {},
     "output_type": "execute_result"
    }
   ],
   "source": [
    "a1*2"
   ]
  },
  {
   "cell_type": "code",
   "execution_count": null,
   "metadata": {
    "id": "1EItOavoAolm",
    "outputId": "8f4fecc9-2523-4f52-d7de-4021d2076f21"
   },
   "outputs": [
    {
     "data": {
      "text/plain": [
       "array([False, False,  True,  True,  True])"
      ]
     },
     "execution_count": 29,
     "metadata": {},
     "output_type": "execute_result"
    }
   ],
   "source": [
    "2*a1>10"
   ]
  },
  {
   "cell_type": "code",
   "execution_count": null,
   "metadata": {
    "id": "0ajfXpbuAoln",
    "outputId": "8d3a3f80-9154-498d-e4db-0604f6fb0f53"
   },
   "outputs": [
    {
     "data": {
      "text/plain": [
       "array([2.16776778e+00, 2.23667552e+00, 2.44569667e+00, 2.60592490e+00,\n",
       "       2.42447558e+00, 2.00702610e+00, 3.29015634e+03, 2.00303543e+00,\n",
       "       2.16323045e+00, 2.90590078e+00])"
      ]
     },
     "execution_count": 95,
     "metadata": {},
     "output_type": "execute_result"
    }
   ],
   "source": [
    "1/a4 + a4"
   ]
  },
  {
   "cell_type": "code",
   "execution_count": null,
   "metadata": {
    "id": "w2mBUMV2Aolp",
    "outputId": "9c2b2b06-166c-4cd4-840f-4dbbac4865b6"
   },
   "outputs": [
    {
     "data": {
      "image/png": "[encoded data removed]",
      "text/plain": [
       "<Figure size 432x288 with 1 Axes>"
      ]
     },
     "metadata": {
      "needs_background": "light"
     },
     "output_type": "display_data"
    }
   ],
   "source": [
    "plt.plot(a6, a6**2)\n",
    "plt.show()"
   ]
  },
  {
   "cell_type": "code",
   "execution_count": null,
   "metadata": {
    "id": "j5S5NYynAolq",
    "outputId": "9574a5dc-e002-4a22-b72c-04ba35cc0d2d"
   },
   "outputs": [
    {
     "data": {
      "image/png": "[encoded data removed]",
      "text/plain": [
       "<Figure size 432x288 with 1 Axes>"
      ]
     },
     "metadata": {
      "needs_background": "light"
     },
     "output_type": "display_data"
    }
   ],
   "source": [
    "plt.hist(a4)\n",
    "plt.show()"
   ]
  },
  {
   "cell_type": "code",
   "execution_count": null,
   "metadata": {
    "id": "rQS2Jn3uAolr",
    "outputId": "3a85c0b6-3665-4ac9-ba49-8c22cfca6e75"
   },
   "outputs": [
    {
     "data": {
      "text/plain": [
       "[<matplotlib.lines.Line2D at 0x1a2397cda30>]"
      ]
     },
     "execution_count": 19,
     "metadata": {},
     "output_type": "execute_result"
    },
    {
     "data": {
      "image/png": "[encoded data removed]",
      "text/plain": [
       "<Figure size 432x288 with 1 Axes>"
      ]
     },
     "metadata": {
      "needs_background": "light"
     },
     "output_type": "display_data"
    }
   ],
   "source": [
    "def f(x):\n",
    "    return x**2 * np.sin(x) / np.exp(-x)\n",
    "\n",
    "plt.plot(a7, f(a7))"
   ]
  },
  {
   "cell_type": "markdown",
   "metadata": {
    "id": "5Cnmdx-iAols"
   },
   "source": [
    "List of many many mathematical functions here:\n",
    "\n",
    "https://numpy.org/doc/stable/reference/routines.math.html"
   ]
  },
  {
   "cell_type": "markdown",
   "metadata": {
    "id": "Kw37fDV2Aols"
   },
   "source": [
    "# Array Indexing/Slicing"
   ]
  },
  {
   "cell_type": "code",
   "execution_count": null,
   "metadata": {
    "id": "vCIMd4_iAolt"
   },
   "outputs": [],
   "source": [
    "a1 = np.array([2,4,6,8,10])"
   ]
  },
  {
   "cell_type": "code",
   "execution_count": null,
   "metadata": {
    "id": "5x06kZmKAolt",
    "outputId": "3d55262c-d7d8-4230-a57b-0b75df5ff133"
   },
   "outputs": [
    {
     "data": {
      "text/plain": [
       "6"
      ]
     },
     "execution_count": 31,
     "metadata": {},
     "output_type": "execute_result"
    }
   ],
   "source": [
    "a1[2]"
   ]
  },
  {
   "cell_type": "code",
   "execution_count": null,
   "metadata": {
    "id": "03xK7PbUAolu",
    "outputId": "adb8c6e9-f9b8-4780-e7ea-13983fcc281e"
   },
   "outputs": [
    {
     "data": {
      "text/plain": [
       "array([ 6,  8, 10])"
      ]
     },
     "execution_count": 32,
     "metadata": {},
     "output_type": "execute_result"
    }
   ],
   "source": [
    "a1[2:]"
   ]
  },
  {
   "cell_type": "code",
   "execution_count": null,
   "metadata": {
    "id": "31fxJVcRAolv",
    "outputId": "be303335-090f-4f72-e6f2-b46f20fddb0e"
   },
   "outputs": [
    {
     "data": {
      "text/plain": [
       "array([2, 4, 6])"
      ]
     },
     "execution_count": 33,
     "metadata": {},
     "output_type": "execute_result"
    }
   ],
   "source": [
    "a1[:-2]"
   ]
  },
  {
   "cell_type": "code",
   "execution_count": null,
   "metadata": {
    "id": "Kk5NbG6lAolw",
    "outputId": "a30aa916-0b95-4af1-e59c-a21253b1aca5"
   },
   "outputs": [
    {
     "data": {
      "text/plain": [
       "array([ 2,  6, 10])"
      ]
     },
     "execution_count": 34,
     "metadata": {},
     "output_type": "execute_result"
    }
   ],
   "source": [
    "a1[::2]"
   ]
  },
  {
   "cell_type": "code",
   "execution_count": null,
   "metadata": {
    "id": "7fVZHW5vAolx",
    "outputId": "d4d9d50e-035f-4aa8-f707-c0910071510d"
   },
   "outputs": [
    {
     "data": {
      "text/plain": [
       "array([False,  True,  True,  True,  True])"
      ]
     },
     "execution_count": 36,
     "metadata": {},
     "output_type": "execute_result"
    }
   ],
   "source": [
    "a1>3"
   ]
  },
  {
   "cell_type": "code",
   "execution_count": null,
   "metadata": {
    "id": "GhL7jYKbAoly",
    "outputId": "39f4eef9-cd2c-40e9-eea0-42a34755dafe"
   },
   "outputs": [
    {
     "data": {
      "text/plain": [
       "array([ 4,  6,  8, 10])"
      ]
     },
     "execution_count": 37,
     "metadata": {},
     "output_type": "execute_result"
    }
   ],
   "source": [
    "a1[a1>3]"
   ]
  },
  {
   "cell_type": "code",
   "execution_count": null,
   "metadata": {
    "id": "ykw8yvbOAolz",
    "outputId": "a5ebc6c4-2c20-469d-fca4-be19ef98fdd0"
   },
   "outputs": [
    {
     "data": {
      "text/plain": [
       "array(['Jim', 'Josh'], dtype='<U4')"
      ]
     },
     "execution_count": 172,
     "metadata": {},
     "output_type": "execute_result"
    }
   ],
   "source": [
    "names = np.array(['Jim', 'Luke', 'Josh', 'Pete'])\n",
    "first_letter_j = np.vectorize(lambda s: s[0])(names)=='J'\n",
    "names[first_letter_j]"
   ]
  },
  {
   "cell_type": "code",
   "execution_count": null,
   "metadata": {
    "id": "PHyct8nAAol0",
    "outputId": "91061988-aee1-4a27-c3fb-562ef32d4f64"
   },
   "outputs": [
    {
     "data": {
      "text/plain": [
       "array([2, 0, 2, 0, 2], dtype=int32)"
      ]
     },
     "execution_count": 38,
     "metadata": {},
     "output_type": "execute_result"
    }
   ],
   "source": [
    "a1%4"
   ]
  },
  {
   "cell_type": "code",
   "execution_count": null,
   "metadata": {
    "id": "fyG4m8-rAol0",
    "outputId": "d1d69b5d-8ed8-4103-80bb-1c50bcce24bc"
   },
   "outputs": [
    {
     "data": {
      "text/plain": [
       "array([False,  True, False,  True, False])"
      ]
     },
     "execution_count": 39,
     "metadata": {},
     "output_type": "execute_result"
    }
   ],
   "source": [
    "a1%4==0"
   ]
  },
  {
   "cell_type": "code",
   "execution_count": null,
   "metadata": {
    "id": "aFTFkBeNAol1",
    "outputId": "3efc6279-cd1b-432b-fc8b-58bfaadb60da"
   },
   "outputs": [
    {
     "data": {
      "text/plain": [
       "array([4, 8])"
      ]
     },
     "execution_count": 40,
     "metadata": {},
     "output_type": "execute_result"
    }
   ],
   "source": [
    "a1[a1%4==0]"
   ]
  },
  {
   "cell_type": "markdown",
   "metadata": {
    "id": "2gUVzIBBAol1"
   },
   "source": [
    "# Calculus / Statistical Functions"
   ]
  },
  {
   "cell_type": "code",
   "execution_count": null,
   "metadata": {
    "id": "JLwYr7RzAol2"
   },
   "outputs": [],
   "source": [
    "a1 = 2*np.random.randn(10000) + 10"
   ]
  },
  {
   "cell_type": "markdown",
   "metadata": {
    "id": "KplosA1TAol3"
   },
   "source": [
    "Mean, standard deviation, and percentiles of arrays:"
   ]
  },
  {
   "cell_type": "code",
   "execution_count": null,
   "metadata": {
    "id": "k_PiCgNGAol3",
    "outputId": "c98222fa-083a-4476-c13e-8aa306532f28"
   },
   "outputs": [
    {
     "data": {
      "text/plain": [
       "9.979134618033553"
      ]
     },
     "execution_count": 63,
     "metadata": {},
     "output_type": "execute_result"
    }
   ],
   "source": [
    "np.mean(a1)"
   ]
  },
  {
   "cell_type": "code",
   "execution_count": null,
   "metadata": {
    "id": "UMVECfnHAol4",
    "outputId": "c12bd150-2613-4f41-d97a-d5053814f35a"
   },
   "outputs": [
    {
     "data": {
      "text/plain": [
       "1.9928989011691287"
      ]
     },
     "execution_count": 64,
     "metadata": {},
     "output_type": "execute_result"
    }
   ],
   "source": [
    "np.std(a1)"
   ]
  },
  {
   "cell_type": "code",
   "execution_count": null,
   "metadata": {
    "id": "e57hKyIYAol5",
    "outputId": "198b7ad4-bb38-4a2f-f7f7-e93c53264873"
   },
   "outputs": [
    {
     "data": {
      "text/plain": [
       "11.657999251344755"
      ]
     },
     "execution_count": 66,
     "metadata": {},
     "output_type": "execute_result"
    }
   ],
   "source": [
    "np.percentile(a1, 80)"
   ]
  },
  {
   "cell_type": "markdown",
   "metadata": {
    "id": "QetvEy3UAol6"
   },
   "source": [
    "Integrals and derivatives"
   ]
  },
  {
   "cell_type": "code",
   "execution_count": null,
   "metadata": {
    "id": "E3vtU99uAol7"
   },
   "outputs": [],
   "source": [
    "x = np.linspace(1, 10, 100)\n",
    "y = 1/x**2 * np.sin(x)\n",
    "dydx = np.gradient(y,x)\n",
    "y_integral = np.cumsum(y) * (x[1]-x[0])"
   ]
  },
  {
   "cell_type": "code",
   "execution_count": null,
   "metadata": {
    "id": "peZvjqkFAol8",
    "outputId": "2f78b840-5ff3-4514-cb37-a841017dedef"
   },
   "outputs": [
    {
     "data": {
      "text/plain": [
       "[<matplotlib.lines.Line2D at 0x164c7dd2b80>]"
      ]
     },
     "execution_count": 108,
     "metadata": {},
     "output_type": "execute_result"
    },
    {
     "data": {
      "image/png": "[encoded data removed]",
      "text/plain": [
       "<Figure size 432x288 with 1 Axes>"
      ]
     },
     "metadata": {
      "needs_background": "light"
     },
     "output_type": "display_data"
    }
   ],
   "source": [
    "plt.plot(x,y)\n",
    "plt.plot(x,dydx)\n",
    "plt.plot(x,y_integral)"
   ]
  },
  {
   "cell_type": "markdown",
   "metadata": {
    "id": "3u6T_VbWAol9"
   },
   "source": [
    "# Examples"
   ]
  },
  {
   "cell_type": "markdown",
   "metadata": {
    "id": "lIBIzI3oAol-"
   },
   "source": [
    "## Question 1:\n",
    "\n",
    "Let $y=e^{-x/10} \\sin(x)$. Consider 10000 $x$ intervals in the range $[0,10]$\n",
    "\n",
    "1. Plot the function $y$ vs. $x$ in the range $[0, 10]$. \n",
    "2. Compute the mean and standard deviation of $y$ for $x$ values in $[4,7]$\n",
    "3. For $x$ in the range $[4,7]$, find the value $y_m$ such that 80% of $y$ values are less than $y_m$\n",
    "4. Plot $dy/dx$ vs $x$\n",
    "5. Find the locations where $dy/dx=0$ "
   ]
  },
  {
   "cell_type": "code",
   "execution_count": null,
   "metadata": {
    "id": "TyyvYtwQAomB",
    "outputId": "a212c2de-fefe-4a78-97de-15f661f78ae4"
   },
   "outputs": [
    {
     "data": {
      "text/plain": [
       "[<matplotlib.lines.Line2D at 0x164c7e13cd0>]"
      ]
     },
     "execution_count": 109,
     "metadata": {},
     "output_type": "execute_result"
    },
    {
     "data": {
      "image/png": "[encoded data removed]",
      "text/plain": [
       "<Figure size 432x288 with 1 Axes>"
      ]
     },
     "metadata": {
      "needs_background": "light"
     },
     "output_type": "display_data"
    }
   ],
   "source": [
    "#1 \n",
    "N = 10000\n",
    "x = np.linspace(0, 10, N+1)\n",
    "y = np.exp(-x/10) * np.sin(x)\n",
    "plt.plot(x,y)"
   ]
  },
  {
   "cell_type": "code",
   "execution_count": null,
   "metadata": {
    "id": "-6Nc45NpAomC",
    "outputId": "5d91efc0-c77e-4c0d-8b07-460718c43a79"
   },
   "outputs": [
    {
     "data": {
      "text/plain": [
       "0.31448753875085117"
      ]
     },
     "execution_count": 112,
     "metadata": {},
     "output_type": "execute_result"
    }
   ],
   "source": [
    "#2\n",
    "np.mean(y[(x>=4)*(x<=7)])\n",
    "np.std(y[(x>=4)*(x<=7)])"
   ]
  },
  {
   "cell_type": "code",
   "execution_count": null,
   "metadata": {
    "id": "RJP12UexAomD",
    "outputId": "62345df0-20f5-42ea-c360-438fbac1a8ba"
   },
   "outputs": [
    {
     "data": {
      "text/plain": [
       "0.06145551274590662"
      ]
     },
     "execution_count": 113,
     "metadata": {},
     "output_type": "execute_result"
    }
   ],
   "source": [
    "#3 \n",
    "np.percentile(y[(x>=4)*(x<=7)], 80)"
   ]
  },
  {
   "cell_type": "code",
   "execution_count": null,
   "metadata": {
    "id": "stj449KuAomE",
    "outputId": "b7fa59fc-74fc-4ca7-c209-d74e18d4d36e"
   },
   "outputs": [
    {
     "data": {
      "text/plain": [
       "[<matplotlib.lines.Line2D at 0x164c7e6aaf0>]"
      ]
     },
     "execution_count": 114,
     "metadata": {},
     "output_type": "execute_result"
    },
    {
     "data": {
      "image/png": "[encoded data removed]",
      "text/plain": [
       "<Figure size 432x288 with 1 Axes>"
      ]
     },
     "metadata": {
      "needs_background": "light"
     },
     "output_type": "display_data"
    }
   ],
   "source": [
    "#4\n",
    "plt.plot(x, np.gradient(y,x))"
   ]
  },
  {
   "cell_type": "code",
   "execution_count": null,
   "metadata": {
    "id": "YQP6i6IdAomF",
    "outputId": "5dd21959-2ec0-4fe2-f1d1-1c0abbd60a62"
   },
   "outputs": [
    {
     "data": {
      "text/plain": [
       "array([1.472, 4.613, 7.755])"
      ]
     },
     "execution_count": 121,
     "metadata": {},
     "output_type": "execute_result"
    }
   ],
   "source": [
    "#5\n",
    "dydx = np.gradient(y,x)\n",
    "x[1:][dydx[1:] * dydx[:-1] < 0]"
   ]
  },
  {
   "cell_type": "markdown",
   "metadata": {
    "id": "7M5H1_4xAomG"
   },
   "source": [
    "# Question 2:\n",
    "\n",
    "Sum together every number from 0 to 10000 except for those than can be divided by 4 or 7. Do this in one line of code"
   ]
  },
  {
   "cell_type": "code",
   "execution_count": null,
   "metadata": {
    "id": "Pa1-hWRsAomG",
    "outputId": "c4676170-8415-4b06-da46-9c3ff140f390"
   },
   "outputs": [
    {
     "data": {
      "text/plain": [
       "32147142"
      ]
     },
     "execution_count": 124,
     "metadata": {},
     "output_type": "execute_result"
    }
   ],
   "source": [
    "np.arange(0,10001,1)[(np.arange(0,10001,1)%4!=0)*(np.arange(0,10001,1)%7!=0)].sum()"
   ]
  },
  {
   "cell_type": "markdown",
   "metadata": {
    "id": "197-k5kJAomI"
   },
   "source": [
    "## Question 3:\n",
    "\n",
    "Consider the flower petal $r(\\theta) = 1+\\frac{3}{4}\\sin(3 \\theta)$ for $0 \\leq \\theta \\leq 2 \\pi$\n",
    "\n",
    "1. Make a plot of the flower (find x and y points)\n",
    "2. Compute the area using the calculus formula $A = \\int_{0}^{2\\pi} \\frac{1}{2} r^2 d\\theta$\n",
    "3. Compute the arclength using the calculus formula $L = \\int_{0}^{2 \\pi} \\sqrt{r^2 + \\left(\\frac{dr}{d\\theta}\\right)^2} d\\theta$"
   ]
  },
  {
   "cell_type": "code",
   "execution_count": null,
   "metadata": {
    "id": "AVWnTUNgAomK",
    "outputId": "6a0da332-a24f-46fb-b5d2-6bf6caff6f4a"
   },
   "outputs": [
    {
     "data": {
      "text/plain": [
       "[<matplotlib.lines.Line2D at 0x164c7f11c40>]"
      ]
     },
     "execution_count": 128,
     "metadata": {},
     "output_type": "execute_result"
    },
    {
     "data": {
      "image/png": "[encoded data removed]",
      "text/plain": [
       "<Figure size 432x288 with 1 Axes>"
      ]
     },
     "metadata": {
      "needs_background": "light"
     },
     "output_type": "display_data"
    }
   ],
   "source": [
    "# 1\n",
    "theta = np.linspace(0, 2*np.pi, 10000)\n",
    "r = 1 + 3/4 * np.sin(3*theta)\n",
    "x = r*np.cos(theta)\n",
    "y = r * np.sin(theta)\n",
    "plt.plot(x,y)"
   ]
  },
  {
   "cell_type": "code",
   "execution_count": null,
   "metadata": {
    "id": "muQYRxWlAomL",
    "outputId": "1d010c56-9f2c-4d07-e26f-c6aa0f5c8787"
   },
   "outputs": [
    {
     "data": {
      "text/plain": [
       "4.025479778096348"
      ]
     },
     "execution_count": 130,
     "metadata": {},
     "output_type": "execute_result"
    }
   ],
   "source": [
    "#2 \n",
    "A = 1/2 * sum(r**2) * (theta[1]-theta[0])\n",
    "A"
   ]
  },
  {
   "cell_type": "code",
   "execution_count": null,
   "metadata": {
    "id": "8ptprU6AAomM",
    "outputId": "aa201188-ee15-4f3d-d4ed-8762575a4e64"
   },
   "outputs": [
    {
     "data": {
      "text/plain": [
       "11.626531213518831"
      ]
     },
     "execution_count": 132,
     "metadata": {},
     "output_type": "execute_result"
    }
   ],
   "source": [
    "L = sum(np.sqrt(r**2 + np.gradient(r, theta)**2)) * (theta[1]-theta[0])\n",
    "L"
   ]
  },
  {
   "cell_type": "markdown",
   "metadata": {
    "id": "C2cF6xafAomN"
   },
   "source": [
    "## Question 4:\n",
    "\n",
    "The power emitted by a blackbody is $P = A \\sigma \\epsilon T^4$. After measuring the temperature of a star you find that $T(t) = T_0 \\frac{1}{1+e^{-kt}}$. Plot the total energy emitted by the star as a function of time using the fact that $E(t) = \\int_{t'=0}^{t'=t} P(t') dt' $"
   ]
  },
  {
   "cell_type": "code",
   "execution_count": null,
   "metadata": {
    "id": "o42c6ajpAomN"
   },
   "outputs": [],
   "source": [
    "kt = np.linspace(0, 3, 100)\n",
    "P = (1/(1+np.exp(-kt)))**4\n",
    "E = np.cumsum(P) * (kt[1]-kt[0])"
   ]
  },
  {
   "cell_type": "code",
   "execution_count": null,
   "metadata": {
    "id": "6lRYOGEeAomO",
    "outputId": "0411731b-8e28-42fa-ea29-50d44e8e2763"
   },
   "outputs": [
    {
     "data": {
      "image/png": "[encoded data removed]",
      "text/plain": [
       "<Figure size 432x288 with 1 Axes>"
      ]
     },
     "metadata": {
      "needs_background": "light"
     },
     "output_type": "display_data"
    }
   ],
   "source": [
    "plt.plot(kt,E)\n",
    "plt.xlabel('$kt$', fontsize=20)\n",
    "plt.ylabel(r'$\\left(\\frac{k}{A \\sigma \\epsilon T_0^4}\\right) E(kt)$', fontsize=20)\n",
    "plt.show()"
   ]
  },
  {
   "cell_type": "markdown",
   "metadata": {
    "id": "YzE4GhIUAomO"
   },
   "source": [
    "# Multi-Dimensional Arrays"
   ]
  },
  {
   "cell_type": "markdown",
   "metadata": {
    "id": "6CoBVSXIAomQ"
   },
   "source": [
    "Creating multi dimensional arrays"
   ]
  },
  {
   "cell_type": "code",
   "execution_count": null,
   "metadata": {
    "id": "3GXFB2ZwAomQ"
   },
   "outputs": [],
   "source": [
    "a1 = np.array([[4,6,4],[2,1,2],[5,6,7]])"
   ]
  },
  {
   "cell_type": "code",
   "execution_count": null,
   "metadata": {
    "id": "ac7BqEpmAomQ",
    "outputId": "62b4aa26-3346-4f55-f462-e33579844687"
   },
   "outputs": [
    {
     "data": {
      "text/plain": [
       "array([[4, 6, 4],\n",
       "       [2, 1, 2],\n",
       "       [5, 6, 7]])"
      ]
     },
     "execution_count": 144,
     "metadata": {},
     "output_type": "execute_result"
    }
   ],
   "source": [
    "a1"
   ]
  },
  {
   "cell_type": "markdown",
   "metadata": {
    "id": "QFlstRV2AomR"
   },
   "source": [
    "Operations work in a similar way"
   ]
  },
  {
   "cell_type": "code",
   "execution_count": null,
   "metadata": {
    "id": "kf59UfZcAomR",
    "outputId": "768b1335-74b9-4aff-9d48-9cf9689ce12b"
   },
   "outputs": [
    {
     "data": {
      "text/plain": [
       "array([[ 8, 12,  8],\n",
       "       [ 4,  2,  4],\n",
       "       [10, 12, 14]])"
      ]
     },
     "execution_count": 145,
     "metadata": {},
     "output_type": "execute_result"
    }
   ],
   "source": [
    "a1*2"
   ]
  },
  {
   "cell_type": "code",
   "execution_count": null,
   "metadata": {
    "id": "1eOPZ9b7AomS",
    "outputId": "5cd31987-1de3-4090-d106-15556627c30b"
   },
   "outputs": [
    {
     "data": {
      "text/plain": [
       "array([[0.5       , 0.33333333, 0.5       ],\n",
       "       [1.        , 2.        , 1.        ],\n",
       "       [0.4       , 0.33333333, 0.28571429]])"
      ]
     },
     "execution_count": 146,
     "metadata": {},
     "output_type": "execute_result"
    }
   ],
   "source": [
    "2/a1"
   ]
  },
  {
   "cell_type": "markdown",
   "metadata": {
    "id": "-6-VrjalAomS"
   },
   "source": [
    "Can turn any n-dimensional array to a 1d array using `ravel()` method"
   ]
  },
  {
   "cell_type": "code",
   "execution_count": null,
   "metadata": {
    "id": "vz86Zh1vAomT",
    "outputId": "87247ef3-2c9a-49c5-f5a4-74a9007e3a41"
   },
   "outputs": [
    {
     "data": {
      "text/plain": [
       "array([4, 6, 4, 2, 1, 2, 5, 6, 7])"
      ]
     },
     "execution_count": 147,
     "metadata": {},
     "output_type": "execute_result"
    }
   ],
   "source": [
    "a1.ravel()"
   ]
  },
  {
   "cell_type": "markdown",
   "metadata": {
    "id": "2fDBWwOvAomT"
   },
   "source": [
    "Boolean indexing"
   ]
  },
  {
   "cell_type": "code",
   "execution_count": null,
   "metadata": {
    "id": "VRShN5GeAomU",
    "outputId": "ad2ad4fe-1f35-4af1-f034-0f5d5dada29a"
   },
   "outputs": [
    {
     "data": {
      "text/plain": [
       "array([[False,  True, False],\n",
       "       [False, False, False],\n",
       "       [False,  True,  True]])"
      ]
     },
     "execution_count": 148,
     "metadata": {},
     "output_type": "execute_result"
    }
   ],
   "source": [
    "a1>5"
   ]
  },
  {
   "cell_type": "code",
   "execution_count": null,
   "metadata": {
    "id": "7AC8UpfsAomU",
    "outputId": "27ab44ef-5aff-4087-b4ba-5e76a9d73a67"
   },
   "outputs": [
    {
     "data": {
      "text/plain": [
       "array([[-2.49386871,  0.32168433,  1.03660681],\n",
       "       [-0.72816761, -1.17908093, -1.29601271],\n",
       "       [ 1.10663872,  0.41624801, -2.45950882]])"
      ]
     },
     "execution_count": 149,
     "metadata": {},
     "output_type": "execute_result"
    }
   ],
   "source": [
    "a2 = np.random.randn(3,3)\n",
    "a2"
   ]
  },
  {
   "cell_type": "code",
   "execution_count": null,
   "metadata": {
    "id": "Ps7HI0DcAomV",
    "outputId": "390f9626-23ed-458b-8112-ae96e7b276a1"
   },
   "outputs": [
    {
     "data": {
      "text/plain": [
       "array([ 0.32168433,  0.41624801, -2.45950882])"
      ]
     },
     "execution_count": 150,
     "metadata": {},
     "output_type": "execute_result"
    }
   ],
   "source": [
    "a2[a1>5]"
   ]
  },
  {
   "cell_type": "markdown",
   "metadata": {
    "id": "ca1HFPVtAomV"
   },
   "source": [
    "Element indeing"
   ]
  },
  {
   "cell_type": "code",
   "execution_count": null,
   "metadata": {
    "id": "RrtDnDqqAomW",
    "outputId": "ebd963ad-36e9-4c46-a858-2e06e9731698"
   },
   "outputs": [
    {
     "data": {
      "text/plain": [
       "array([[4, 6, 4],\n",
       "       [2, 1, 2],\n",
       "       [5, 6, 7]])"
      ]
     },
     "execution_count": 151,
     "metadata": {},
     "output_type": "execute_result"
    }
   ],
   "source": [
    "a1"
   ]
  },
  {
   "cell_type": "code",
   "execution_count": null,
   "metadata": {
    "id": "CM_bxhRuAomW",
    "outputId": "d815a860-e47e-48f6-d3e4-5ea252aad01d"
   },
   "outputs": [
    {
     "data": {
      "text/plain": [
       "array([4, 6, 4])"
      ]
     },
     "execution_count": 152,
     "metadata": {},
     "output_type": "execute_result"
    }
   ],
   "source": [
    "a1[0]"
   ]
  },
  {
   "cell_type": "code",
   "execution_count": null,
   "metadata": {
    "id": "WXHK47rRAomW",
    "outputId": "a1b66770-0f3e-46fd-dfa3-b592f9cd8aa6"
   },
   "outputs": [
    {
     "data": {
      "text/plain": [
       "array([6, 1, 6])"
      ]
     },
     "execution_count": 153,
     "metadata": {},
     "output_type": "execute_result"
    }
   ],
   "source": [
    "a1[:,1]"
   ]
  },
  {
   "cell_type": "code",
   "execution_count": null,
   "metadata": {
    "id": "RTWzqRnbAomX",
    "outputId": "a52700ea-cf11-49fb-a820-4f60908e19e4"
   },
   "outputs": [
    {
     "data": {
      "text/plain": [
       "array([1, 6])"
      ]
     },
     "execution_count": 154,
     "metadata": {},
     "output_type": "execute_result"
    }
   ],
   "source": [
    "a1[1:][:,1]"
   ]
  },
  {
   "cell_type": "code",
   "execution_count": null,
   "metadata": {
    "id": "le7bG7ZLAomX",
    "outputId": "2e5b6aab-7294-4182-cc87-cfdcd28a4a9c"
   },
   "outputs": [
    {
     "data": {
      "text/plain": [
       "array([[4, 6, 4],\n",
       "       [2, 1, 2],\n",
       "       [5, 6, 7]])"
      ]
     },
     "execution_count": 161,
     "metadata": {},
     "output_type": "execute_result"
    }
   ],
   "source": [
    "a1"
   ]
  },
  {
   "cell_type": "code",
   "execution_count": null,
   "metadata": {
    "id": "8ShS8OjrAomY",
    "outputId": "5ecfe3af-a34a-41b6-83aa-ad213683eb21"
   },
   "outputs": [
    {
     "data": {
      "text/plain": [
       "array([[4, 6, 4, 2, 1, 2],\n",
       "       [5, 6, 7, 4, 6, 4],\n",
       "       [2, 1, 2, 5, 6, 7],\n",
       "       [4, 6, 4, 2, 1, 2],\n",
       "       [5, 6, 7, 4, 6, 4],\n",
       "       [2, 1, 2, 5, 6, 7]])"
      ]
     },
     "execution_count": 164,
     "metadata": {},
     "output_type": "execute_result"
    }
   ],
   "source": [
    "b1 = np.resize(a1, (6,6))\n",
    "b1"
   ]
  },
  {
   "cell_type": "code",
   "execution_count": null,
   "metadata": {
    "id": "wH3-yLHUAomY",
    "outputId": "1553517f-d0ad-4664-e797-da5faef87896"
   },
   "outputs": [
    {
     "data": {
      "text/plain": [
       "array([[2, 1, 2],\n",
       "       [5, 6, 7],\n",
       "       [4, 6, 4]])"
      ]
     },
     "execution_count": 169,
     "metadata": {},
     "output_type": "execute_result"
    }
   ],
   "source": [
    "b1[0:5:2][:,3:]"
   ]
  },
  {
   "cell_type": "markdown",
   "metadata": {
    "id": "f7RiBzN2AomZ"
   },
   "source": [
    "# Dealing with 2D functions"
   ]
  },
  {
   "cell_type": "markdown",
   "metadata": {
    "id": "Oxp01d6JAoma"
   },
   "source": [
    "Function in 2 dimensions. Try this..."
   ]
  },
  {
   "cell_type": "code",
   "execution_count": null,
   "metadata": {
    "id": "alhsdKBIAoma"
   },
   "outputs": [],
   "source": [
    "x = np.linspace(0, 10, 1000)\n",
    "y = np.linspace(0, 5, 500)"
   ]
  },
  {
   "cell_type": "code",
   "execution_count": null,
   "metadata": {
    "id": "4giJdhoHAoma",
    "outputId": "7c9152b6-2878-4337-d6b0-cc0516b24d1e"
   },
   "outputs": [
    {
     "ename": "ValueError",
     "evalue": "operands could not be broadcast together with shapes (1000,) (500,) ",
     "output_type": "error",
     "traceback": [
      "\u001b[1;31m---------------------------------------------------------------------------\u001b[0m",
      "\u001b[1;31mValueError\u001b[0m                                Traceback (most recent call last)",
      "\u001b[1;32m<ipython-input-94-5fe6559e7cf2>\u001b[0m in \u001b[0;36m<module>\u001b[1;34m\u001b[0m\n\u001b[1;32m----> 1\u001b[1;33m \u001b[0mz\u001b[0m \u001b[1;33m=\u001b[0m \u001b[0mx\u001b[0m\u001b[1;33m**\u001b[0m\u001b[1;36m2\u001b[0m \u001b[1;33m+\u001b[0m \u001b[0my\u001b[0m\u001b[1;33m**\u001b[0m\u001b[1;36m2\u001b[0m\u001b[1;33m\u001b[0m\u001b[1;33m\u001b[0m\u001b[0m\n\u001b[0m",
      "\u001b[1;31mValueError\u001b[0m: operands could not be broadcast together with shapes (1000,) (500,) "
     ]
    }
   ],
   "source": [
    "z = x**2 + y**2"
   ]
  },
  {
   "cell_type": "markdown",
   "metadata": {
    "id": "Th53NqXuAomb"
   },
   "source": [
    "Need to use meshgrids"
   ]
  },
  {
   "cell_type": "code",
   "execution_count": null,
   "metadata": {
    "id": "wPWinM--Aomc"
   },
   "outputs": [],
   "source": [
    "xv, yv = np.meshgrid(x, y)"
   ]
  },
  {
   "cell_type": "code",
   "execution_count": null,
   "metadata": {
    "id": "fBCzUsfaAomc"
   },
   "outputs": [],
   "source": [
    "zv = xv**2 + yv**2"
   ]
  },
  {
   "cell_type": "code",
   "execution_count": null,
   "metadata": {
    "id": "fYydTkdTAomd",
    "outputId": "e5d9ff38-c613-4b59-9a99-30d994e47757"
   },
   "outputs": [
    {
     "data": {
      "image/png": "[encoded data removed]",
      "text/plain": [
       "<Figure size 432x288 with 2 Axes>"
      ]
     },
     "metadata": {
      "needs_background": "light"
     },
     "output_type": "display_data"
    }
   ],
   "source": [
    "plt.contourf(xv, yv, zv,levels=30)\n",
    "plt.colorbar()\n",
    "plt.show()"
   ]
  },
  {
   "cell_type": "markdown",
   "metadata": {
    "id": "-6wXcZxaAomd"
   },
   "source": [
    "# Basic Linear Algebra"
   ]
  },
  {
   "cell_type": "markdown",
   "metadata": {
    "id": "9gP-nEsIAomd"
   },
   "source": [
    "## Matrix Operations"
   ]
  },
  {
   "cell_type": "code",
   "execution_count": null,
   "metadata": {
    "id": "Z80n-6foAome"
   },
   "outputs": [],
   "source": [
    "A = np.array([[3, 2, 1],[5,-5,4],[6,0,1]])\n",
    "b1 = np.array([1,2,3])\n",
    "b2 = np.array([-1,2,-5])"
   ]
  },
  {
   "cell_type": "code",
   "execution_count": null,
   "metadata": {
    "id": "7yli_GgGAome",
    "outputId": "391d4f64-7605-4aeb-bb59-2506e77d2557"
   },
   "outputs": [
    {
     "data": {
      "text/plain": [
       "array([[ 3,  2,  1],\n",
       "       [ 5, -5,  4],\n",
       "       [ 6,  0,  1]])"
      ]
     },
     "execution_count": 49,
     "metadata": {},
     "output_type": "execute_result"
    }
   ],
   "source": [
    "A"
   ]
  },
  {
   "cell_type": "code",
   "execution_count": null,
   "metadata": {
    "id": "Beo_KInqAome",
    "outputId": "f02277a6-6cf1-4db1-ee75-438132b77e4e"
   },
   "outputs": [
    {
     "data": {
      "text/plain": [
       "array([1, 2, 3])"
      ]
     },
     "execution_count": 50,
     "metadata": {},
     "output_type": "execute_result"
    }
   ],
   "source": [
    "b1"
   ]
  },
  {
   "cell_type": "code",
   "execution_count": null,
   "metadata": {
    "id": "YW3DedlOAomf",
    "outputId": "d18cf016-ee50-4f53-8a66-85e1e352ec36"
   },
   "outputs": [
    {
     "data": {
      "text/plain": [
       "array([10,  7,  9])"
      ]
     },
     "execution_count": 51,
     "metadata": {},
     "output_type": "execute_result"
    }
   ],
   "source": [
    "A@b1"
   ]
  },
  {
   "cell_type": "code",
   "execution_count": null,
   "metadata": {
    "id": "6P6Sc1NzAomf",
    "outputId": "1a1d46eb-5d88-4fed-df2f-aa62d53d5ec4"
   },
   "outputs": [
    {
     "data": {
      "text/plain": [
       "array([[ 3,  5,  6],\n",
       "       [ 2, -5,  0],\n",
       "       [ 1,  4,  1]])"
      ]
     },
     "execution_count": 52,
     "metadata": {},
     "output_type": "execute_result"
    }
   ],
   "source": [
    "A.T"
   ]
  },
  {
   "cell_type": "code",
   "execution_count": null,
   "metadata": {
    "id": "S2Dhox1aAomf",
    "outputId": "bd6433a6-05b8-4fb3-9b6f-b2d5e1bc8b1b"
   },
   "outputs": [
    {
     "data": {
      "text/plain": [
       "-12"
      ]
     },
     "execution_count": 53,
     "metadata": {},
     "output_type": "execute_result"
    }
   ],
   "source": [
    "np.dot(b1, b2)"
   ]
  },
  {
   "cell_type": "code",
   "execution_count": null,
   "metadata": {
    "id": "y-CIR46kAomg",
    "outputId": "61cd4071-878d-4ba8-e47d-b9357892d9c7"
   },
   "outputs": [
    {
     "data": {
      "text/plain": [
       "array([-16,   2,   4])"
      ]
     },
     "execution_count": 54,
     "metadata": {},
     "output_type": "execute_result"
    }
   ],
   "source": [
    "np.cross(b1, b2)"
   ]
  },
  {
   "cell_type": "markdown",
   "metadata": {
    "id": "HxeqTzNoAomg"
   },
   "source": [
    "## Systems of Equations\n",
    "\n",
    "$ 3x + 2y + z = 4$\n",
    "\n",
    "$ 5x -5y + 4z = 3$\n",
    "\n",
    "$ 6x +z = 0$"
   ]
  },
  {
   "cell_type": "code",
   "execution_count": null,
   "metadata": {
    "id": "eiFFQINKAomg"
   },
   "outputs": [],
   "source": [
    "A = np.array([[3, 2, 1],[5,-5,4],[6,0,1]])\n",
    "c = np.array([4,3,0])"
   ]
  },
  {
   "cell_type": "code",
   "execution_count": null,
   "metadata": {
    "id": "1SP3ITaqAomh",
    "outputId": "ba84e827-fbb3-4f92-f7ca-434531e6563e"
   },
   "outputs": [
    {
     "data": {
      "text/plain": [
       "array([-0.49056604,  1.26415094,  2.94339623])"
      ]
     },
     "execution_count": 140,
     "metadata": {},
     "output_type": "execute_result"
    }
   ],
   "source": [
    "np.linalg.solve(A,c)"
   ]
  },
  {
   "cell_type": "markdown",
   "metadata": {
    "id": "Ux4W4VphAomh"
   },
   "source": [
    "## Finding Eigenvalues"
   ]
  },
  {
   "cell_type": "code",
   "execution_count": null,
   "metadata": {
    "id": "7EBKBbfZAomi"
   },
   "outputs": [],
   "source": [
    "A = np.array([[4,2,2],[2,4,2],[2,2,4]])"
   ]
  },
  {
   "cell_type": "code",
   "execution_count": null,
   "metadata": {
    "id": "cC3m9DMeAomi",
    "outputId": "73ce137f-f27e-4051-9e33-4aa48afd3f5f"
   },
   "outputs": [
    {
     "data": {
      "text/plain": [
       "(array([2., 8., 2.]),\n",
       " array([[-0.81649658,  0.57735027,  0.50669854],\n",
       "        [ 0.40824829,  0.57735027, -0.80782419],\n",
       "        [ 0.40824829,  0.57735027,  0.30112565]]))"
      ]
     },
     "execution_count": 124,
     "metadata": {},
     "output_type": "execute_result"
    }
   ],
   "source": [
    "np.linalg.eig(A)"
   ]
  },
  {
   "cell_type": "code",
   "execution_count": null,
   "metadata": {
    "id": "sZI5ataGAomj"
   },
   "outputs": [],
   "source": [
    "w, v = np.linalg.eig(A)"
   ]
  },
  {
   "cell_type": "code",
   "execution_count": null,
   "metadata": {
    "id": "vfxMebLAAomj",
    "outputId": "f278dcf0-b865-4929-f5e7-485bb30fa9bc"
   },
   "outputs": [
    {
     "data": {
      "text/plain": [
       "array([4.61880215, 4.61880215, 4.61880215])"
      ]
     },
     "execution_count": 131,
     "metadata": {},
     "output_type": "execute_result"
    }
   ],
   "source": [
    "A@v[:,1]"
   ]
  },
  {
   "cell_type": "code",
   "execution_count": null,
   "metadata": {
    "id": "8dDVQcGiAomj",
    "outputId": "fb0772d0-b2b9-4903-abfd-6b94d632bf80"
   },
   "outputs": [
    {
     "data": {
      "text/plain": [
       "array([4.61880215, 4.61880215, 4.61880215])"
      ]
     },
     "execution_count": 132,
     "metadata": {},
     "output_type": "execute_result"
    }
   ],
   "source": [
    "w[1]*v[:,1]"
   ]
  },
  {
   "cell_type": "markdown",
   "metadata": {
    "id": "Obx5_NlGAomk"
   },
   "source": [
    "# Examples\n",
    "\n",
    "## Question 1\n",
    "\n",
    "Let $f(x,y) = e^{-(x^2+y^2)} \\cdot \\sin(x)$ for $-2 \\leq x \\leq 2$ and $-2 \\leq y \\leq 2$\n",
    "\n",
    "1. Make a contour plot of $f$\n",
    "2. Find the volume $|f(x,y)|$ in the specified $x$ and $y$ range\n",
    "3. Find the volume $|f(x,y)|$ only in the region where $\\sqrt{x^2+y^2}>0.5$ "
   ]
  },
  {
   "cell_type": "code",
   "execution_count": 1,
   "metadata": {
    "colab": {
     "base_uri": "https://localhost:8080/",
     "height": 232
    },
    "executionInfo": {
     "elapsed": 235,
     "status": "error",
     "timestamp": 1633799114034,
     "user": {
      "displayName": "",
      "photoUrl": "",
      "userId": ""
     },
     "user_tz": 180
    },
    "id": "cZ9vCJ9nAoml",
    "outputId": "5616ae88-a396-4a38-d4fc-cf17972dcb69"
   },
   "outputs": [
    {
     "ename": "NameError",
     "evalue": "ignored",
     "output_type": "error",
     "traceback": [
      "\u001b[0;31m---------------------------------------------------------------------------\u001b[0m",
      "\u001b[0;31mNameError\u001b[0m                                 Traceback (most recent call last)",
      "\u001b[0;32m<ipython-input-1-0e0e7189b93a>\u001b[0m in \u001b[0;36m<module>\u001b[0;34m()\u001b[0m\n\u001b[1;32m      1\u001b[0m \u001b[0;31m#1\u001b[0m\u001b[0;34m\u001b[0m\u001b[0;34m\u001b[0m\u001b[0;34m\u001b[0m\u001b[0m\n\u001b[0;32m----> 2\u001b[0;31m \u001b[0mx\u001b[0m \u001b[0;34m=\u001b[0m \u001b[0mnp\u001b[0m\u001b[0;34m.\u001b[0m\u001b[0mlinspace\u001b[0m\u001b[0;34m(\u001b[0m\u001b[0;34m-\u001b[0m\u001b[0;36m2\u001b[0m\u001b[0;34m,\u001b[0m \u001b[0;36m2\u001b[0m\u001b[0;34m,\u001b[0m \u001b[0;36m1000\u001b[0m\u001b[0;34m)\u001b[0m\u001b[0;34m\u001b[0m\u001b[0;34m\u001b[0m\u001b[0m\n\u001b[0m\u001b[1;32m      3\u001b[0m \u001b[0my\u001b[0m \u001b[0;34m=\u001b[0m \u001b[0mnp\u001b[0m\u001b[0;34m.\u001b[0m\u001b[0mlinspace\u001b[0m\u001b[0;34m(\u001b[0m\u001b[0;34m-\u001b[0m\u001b[0;36m2\u001b[0m\u001b[0;34m,\u001b[0m \u001b[0;36m2\u001b[0m\u001b[0;34m,\u001b[0m \u001b[0;36m1000\u001b[0m\u001b[0;34m)\u001b[0m\u001b[0;34m\u001b[0m\u001b[0;34m\u001b[0m\u001b[0m\n\u001b[1;32m      4\u001b[0m \u001b[0mxv\u001b[0m\u001b[0;34m,\u001b[0m \u001b[0myv\u001b[0m \u001b[0;34m=\u001b[0m \u001b[0mnp\u001b[0m\u001b[0;34m.\u001b[0m\u001b[0mmeshgrid\u001b[0m\u001b[0;34m(\u001b[0m\u001b[0mx\u001b[0m\u001b[0;34m,\u001b[0m \u001b[0my\u001b[0m\u001b[0;34m)\u001b[0m\u001b[0;34m\u001b[0m\u001b[0;34m\u001b[0m\u001b[0m\n\u001b[1;32m      5\u001b[0m \u001b[0mf\u001b[0m \u001b[0;34m=\u001b[0m \u001b[0mnp\u001b[0m\u001b[0;34m.\u001b[0m\u001b[0mexp\u001b[0m\u001b[0;34m(\u001b[0m\u001b[0;34m-\u001b[0m\u001b[0mxv\u001b[0m\u001b[0;34m**\u001b[0m\u001b[0;36m2\u001b[0m\u001b[0;34m-\u001b[0m\u001b[0myv\u001b[0m\u001b[0;34m**\u001b[0m\u001b[0;36m2\u001b[0m\u001b[0;34m)\u001b[0m \u001b[0;34m*\u001b[0m \u001b[0mnp\u001b[0m\u001b[0;34m.\u001b[0m\u001b[0msin\u001b[0m\u001b[0;34m(\u001b[0m\u001b[0mxv\u001b[0m\u001b[0;34m)\u001b[0m\u001b[0;34m\u001b[0m\u001b[0;34m\u001b[0m\u001b[0m\n",
      "\u001b[0;31mNameError\u001b[0m: name 'np' is not defined"
     ]
    }
   ],
   "source": [
    "#1\n",
    "x = np.linspace(-2, 2, 1000)\n",
    "y = np.linspace(-2, 2, 1000)\n",
    "xv, yv = np.meshgrid(x, y)\n",
    "f = np.exp(-xv**2-yv**2) * np.sin(xv)\n",
    "plt.contourf(xv,yv,f, levels=100)\n",
    "plt.colorbar()"
   ]
  },
  {
   "cell_type": "code",
   "execution_count": 2,
   "metadata": {
    "colab": {
     "base_uri": "https://localhost:8080/",
     "height": 181
    },
    "executionInfo": {
     "elapsed": 1106,
     "status": "error",
     "timestamp": 1633799115915,
     "user": {
      "displayName": "",
      "photoUrl": "",
      "userId": ""
     },
     "user_tz": 180
    },
    "id": "cPRn42hlAoml",
    "outputId": "fd1c47be-3a7c-44c9-ffee-9a512ef889fb"
   },
   "outputs": [
    {
     "ename": "NameError",
     "evalue": "ignored",
     "output_type": "error",
     "traceback": [
      "\u001b[0;31m---------------------------------------------------------------------------\u001b[0m",
      "\u001b[0;31mNameError\u001b[0m                                 Traceback (most recent call last)",
      "\u001b[0;32m<ipython-input-2-9c63bfa79ea7>\u001b[0m in \u001b[0;36m<module>\u001b[0;34m()\u001b[0m\n\u001b[1;32m      1\u001b[0m \u001b[0;31m#2\u001b[0m\u001b[0;34m\u001b[0m\u001b[0;34m\u001b[0m\u001b[0;34m\u001b[0m\u001b[0m\n\u001b[0;32m----> 2\u001b[0;31m \u001b[0msum\u001b[0m\u001b[0;34m(\u001b[0m\u001b[0mnp\u001b[0m\u001b[0;34m.\u001b[0m\u001b[0mabs\u001b[0m\u001b[0;34m(\u001b[0m\u001b[0mf\u001b[0m\u001b[0;34m.\u001b[0m\u001b[0mravel\u001b[0m\u001b[0;34m(\u001b[0m\u001b[0;34m)\u001b[0m\u001b[0;34m)\u001b[0m\u001b[0;34m)\u001b[0m \u001b[0;34m*\u001b[0m \u001b[0mnp\u001b[0m\u001b[0;34m.\u001b[0m\u001b[0mdiff\u001b[0m\u001b[0;34m(\u001b[0m\u001b[0mx\u001b[0m\u001b[0;34m)\u001b[0m\u001b[0;34m[\u001b[0m\u001b[0;36m0\u001b[0m\u001b[0;34m]\u001b[0m \u001b[0;34m*\u001b[0m \u001b[0mnp\u001b[0m\u001b[0;34m.\u001b[0m\u001b[0mdiff\u001b[0m\u001b[0;34m(\u001b[0m\u001b[0my\u001b[0m\u001b[0;34m)\u001b[0m\u001b[0;34m[\u001b[0m\u001b[0;36m0\u001b[0m\u001b[0;34m]\u001b[0m\u001b[0;34m\u001b[0m\u001b[0;34m\u001b[0m\u001b[0m\n\u001b[0m",
      "\u001b[0;31mNameError\u001b[0m: name 'np' is not defined"
     ]
    }
   ],
   "source": [
    "#2\n",
    "sum(np.abs(f.ravel())) * np.diff(x)[0] * np.diff(y)[0]"
   ]
  },
  {
   "cell_type": "code",
   "execution_count": null,
   "metadata": {
    "executionInfo": {
     "elapsed": 1066,
     "status": "aborted",
     "timestamp": 1633799115878,
     "user": {
      "displayName": "",
      "photoUrl": "",
      "userId": ""
     },
     "user_tz": 180
    },
    "id": "nkb_y2C6Aomm"
   },
   "outputs": [],
   "source": [
    "# 3\n",
    "sum(np.abs(f[xv**2+yv**2>0.25].ravel())) * np.diff(x)[0] * np.diff(y)[0]"
   ]
  },
  {
   "cell_type": "markdown",
   "metadata": {
    "id": "q8kGhL5GAomr"
   },
   "source": [
    "## Question 2\n",
    "\n",
    "After examining a circuit full of resistors, you find that the voltage at 4 specified points is given by\n",
    "\n",
    "$ 3V_1 + 2V_2 + 3V_3 + 10V_4 = 4$\n",
    "\n",
    "$ 2V_1 - 2V_2 + 5V_3 + 8V_4 = 1$\n",
    "\n",
    "$ 3V_1 + 3V_2 + 4V_3 + 9V_4 = 3$\n",
    "\n",
    "$ 3V_1 + 4V_2 - 3V_3 - 7V_4 = 2$\n",
    "\n",
    "Find all the voltages"
   ]
  },
  {
   "cell_type": "code",
   "execution_count": null,
   "metadata": {
    "executionInfo": {
     "elapsed": 1068,
     "status": "aborted",
     "timestamp": 1633799115880,
     "user": {
      "displayName": "",
      "photoUrl": "",
      "userId": ""
     },
     "user_tz": 180
    },
    "id": "6RcqRVbKAoms"
   },
   "outputs": [],
   "source": []
  },
  {
   "cell_type": "markdown",
   "metadata": {
    "id": "Zv33O5E_Aomt"
   },
   "source": [
    "## Question 3 (tougher)\n",
    "\n",
    "An electric field is given by $\\vec{E}(z,t) = E_0 \\cos (z-t) \\hat{x} + 2E_0 \\cos(z-t+\\pi/2) \\hat{y}$. \n",
    "\n",
    "1. Find the magnetic field for all $z \\in [0,4\\pi]$ and $t \\in [0,10]$ using $c\\vec{B}(z,t) = \\hat{z} \\times \\vec{E}(z,t)$\n",
    "2. Compute the Poynting vector $\\vec{S} = \\vec{E} \\times \\vec{B}$ for all $z$ and $t$"
   ]
  },
  {
   "cell_type": "code",
   "execution_count": null,
   "metadata": {
    "executionInfo": {
     "elapsed": 1077,
     "status": "aborted",
     "timestamp": 1633799115890,
     "user": {
      "displayName": "",
      "photoUrl": "",
      "userId": ""
     },
     "user_tz": 180
    },
    "id": "YjfpZLNpAomv"
   },
   "outputs": [],
   "source": [
    "z = np.linspace(0, 4*np.pi, 100)\n",
    "t = np.linspace(0, 10, 100)\n",
    "\n",
    "tv, zv = np.meshgrid(t, z)\n",
    "\n",
    "Ex = np.cos(zv-tv)\n",
    "Ey = 2*np.cos(zv-tv+np.pi/2)\n",
    "Ez = 0*zv"
   ]
  },
  {
   "cell_type": "markdown",
   "metadata": {
    "id": "WGU2UytQAomw"
   },
   "source": [
    "$E_x$ as function of $t$ at $z=0$"
   ]
  },
  {
   "cell_type": "code",
   "execution_count": null,
   "metadata": {
    "executionInfo": {
     "elapsed": 49,
     "status": "aborted",
     "timestamp": 1633799115893,
     "user": {
      "displayName": "",
      "photoUrl": "",
      "userId": ""
     },
     "user_tz": 180
    },
    "id": "JIw-HYulAomw"
   },
   "outputs": [],
   "source": [
    "plt.plot(t, Ex[0])\n",
    "plt.plot(t, Ey[0])"
   ]
  },
  {
   "cell_type": "markdown",
   "metadata": {
    "id": "U4tzW7DhAomx"
   },
   "source": [
    "$E_x$ as function of $z$ at $t=0$"
   ]
  },
  {
   "cell_type": "code",
   "execution_count": null,
   "metadata": {
    "executionInfo": {
     "elapsed": 50,
     "status": "aborted",
     "timestamp": 1633799115894,
     "user": {
      "displayName": "",
      "photoUrl": "",
      "userId": ""
     },
     "user_tz": 180
    },
    "id": "2gwddhwxAomx"
   },
   "outputs": [],
   "source": [
    "plt.plot(Ex[:,0])"
   ]
  },
  {
   "cell_type": "code",
   "execution_count": null,
   "metadata": {
    "executionInfo": {
     "elapsed": 50,
     "status": "aborted",
     "timestamp": 1633799115895,
     "user": {
      "displayName": "",
      "photoUrl": "",
      "userId": ""
     },
     "user_tz": 180
    },
    "id": "k5oBv0MkAomx"
   },
   "outputs": [],
   "source": [
    "E = np.array([Ex, Ey, Ez])\n",
    "E = np.swapaxes(E, 0, -1)"
   ]
  },
  {
   "cell_type": "code",
   "execution_count": null,
   "metadata": {
    "executionInfo": {
     "elapsed": 50,
     "status": "aborted",
     "timestamp": 1633799115896,
     "user": {
      "displayName": "",
      "photoUrl": "",
      "userId": ""
     },
     "user_tz": 180
    },
    "id": "9shB1z9lAomy"
   },
   "outputs": [],
   "source": [
    "B = np.cross(np.array([0,0,1]), E)\n",
    "E = np.swapaxes(E, 0, -1)\n",
    "B = np.swapaxes(B, 0, -1)"
   ]
  },
  {
   "cell_type": "code",
   "execution_count": null,
   "metadata": {
    "executionInfo": {
     "elapsed": 50,
     "status": "aborted",
     "timestamp": 1633799115898,
     "user": {
      "displayName": "",
      "photoUrl": "",
      "userId": ""
     },
     "user_tz": 180
    },
    "id": "DP_k_qo1Aomy"
   },
   "outputs": [],
   "source": [
    "Bx, By, Bz = B"
   ]
  },
  {
   "cell_type": "code",
   "execution_count": null,
   "metadata": {
    "executionInfo": {
     "elapsed": 51,
     "status": "aborted",
     "timestamp": 1633799115899,
     "user": {
      "displayName": "",
      "photoUrl": "",
      "userId": ""
     },
     "user_tz": 180
    },
    "id": "c9h40iRrAomz"
   },
   "outputs": [],
   "source": [
    "plt.plot(t,Ey[0])\n",
    "plt.plot(t,Bx[0])"
   ]
  },
  {
   "cell_type": "code",
   "execution_count": null,
   "metadata": {
    "executionInfo": {
     "elapsed": 51,
     "status": "aborted",
     "timestamp": 1633799115900,
     "user": {
      "displayName": "",
      "photoUrl": "",
      "userId": ""
     },
     "user_tz": 180
    },
    "id": "D1936hH8Aomz"
   },
   "outputs": [],
   "source": [
    "S = np.cross(np.swapaxes(E, 0, -1), np.swapaxes(B, 0, -1))\n",
    "S = np.swapaxes(S, 0, -1)\n",
    "Sx, Sy, Sz = S"
   ]
  },
  {
   "cell_type": "code",
   "execution_count": null,
   "metadata": {
    "executionInfo": {
     "elapsed": 51,
     "status": "aborted",
     "timestamp": 1633799115901,
     "user": {
      "displayName": "",
      "photoUrl": "",
      "userId": ""
     },
     "user_tz": 180
    },
    "id": "PzzyWGf8Aom0"
   },
   "outputs": [],
   "source": [
    "plt.plot(Sz[0])"
   ]
  },
  {
   "cell_type": "markdown",
   "metadata": {
    "id": "MdoehMElAom0"
   },
   "source": [
    "## Question 4 (tougher)\n",
    "\n",
    "Find the solutions to $\\left(\\frac{d^2}{dx^2} + (10x)^2\\right) f = \\lambda f$ with boundary conditions $f(0)=f(1)=0$\n",
    "\n",
    "* use the eigenvalue method and the fact that $\\frac{d^2 f}{dx^2} \\approx \\frac{f_{i+1} + f_{i-1} - 2f_i}{\\Delta x^2}$ where $f_i = f(i \\Delta x)$ and $i$ is an integer. "
   ]
  },
  {
   "cell_type": "code",
   "execution_count": null,
   "metadata": {
    "executionInfo": {
     "elapsed": 52,
     "status": "aborted",
     "timestamp": 1633799115902,
     "user": {
      "displayName": "",
      "photoUrl": "",
      "userId": ""
     },
     "user_tz": 180
    },
    "id": "DKVhtDXEAom1"
   },
   "outputs": [],
   "source": [
    "N = 1000\n",
    "x = np.linspace(0,1,N+1)\n",
    "dx = x[1]-x[0]\n",
    "\n",
    "main_diag = -2*np.ones(N-1)\n",
    "off_diag = np.ones(N-2)\n",
    "derivative_matrix = (np.diag(main_diag) + np.diag(off_diag, k=1)+ np.diag(off_diag, k=-1))/dx**2\n",
    "x2_matrix = np.diag((10*x[1:-1])**2)\n",
    "LHS_matrix = derivative_matrix #+ x2_matrix "
   ]
  },
  {
   "cell_type": "code",
   "execution_count": null,
   "metadata": {
    "executionInfo": {
     "elapsed": 52,
     "status": "aborted",
     "timestamp": 1633799115903,
     "user": {
      "displayName": "",
      "photoUrl": "",
      "userId": ""
     },
     "user_tz": 180
    },
    "id": "X-xVOrh9Aom1"
   },
   "outputs": [],
   "source": [
    "w, v = np.linalg.eigh(LHS_matrix)"
   ]
  },
  {
   "cell_type": "code",
   "execution_count": null,
   "metadata": {
    "executionInfo": {
     "elapsed": 51,
     "status": "aborted",
     "timestamp": 1633799115904,
     "user": {
      "displayName": "",
      "photoUrl": "",
      "userId": ""
     },
     "user_tz": 180
    },
    "id": "KiOAKYIQAom2"
   },
   "outputs": [],
   "source": [
    "plt.plot(-1*v[:,-1])\n",
    "plt.plot(-1*v[:,-2])\n",
    "plt.plot(-1*v[:,-3])\n",
    "plt.plot(-1*v[:,-4])"
   ]
  },
  {
   "cell_type": "code",
   "execution_count": null,
   "metadata": {
    "executionInfo": {
     "elapsed": 46,
     "status": "aborted",
     "timestamp": 1633799115904,
     "user": {
      "displayName": "",
      "photoUrl": "",
      "userId": ""
     },
     "user_tz": 180
    },
    "id": "8KCb9WrjAom2"
   },
   "outputs": [],
   "source": [
    "w[-1]"
   ]
  },
  {
   "cell_type": "code",
   "execution_count": null,
   "metadata": {
    "executionInfo": {
     "elapsed": 46,
     "status": "aborted",
     "timestamp": 1633799115905,
     "user": {
      "displayName": "",
      "photoUrl": "",
      "userId": ""
     },
     "user_tz": 180
    },
    "id": "KZTpIj-QAom3"
   },
   "outputs": [],
   "source": [
    "np.pi**2"
   ]
  },
  {
   "cell_type": "code",
   "execution_count": null,
   "metadata": {
    "executionInfo": {
     "elapsed": 49,
     "status": "aborted",
     "timestamp": 1633799115910,
     "user": {
      "displayName": "",
      "photoUrl": "",
      "userId": ""
     },
     "user_tz": 180
    },
    "id": "kcYfITreAom3"
   },
   "outputs": [],
   "source": [
    "w[-2]"
   ]
  },
  {
   "cell_type": "code",
   "execution_count": null,
   "metadata": {
    "executionInfo": {
     "elapsed": 47,
     "status": "aborted",
     "timestamp": 1633799115911,
     "user": {
      "displayName": "",
      "photoUrl": "",
      "userId": ""
     },
     "user_tz": 180
    },
    "id": "iC5GLQ2DAom3"
   },
   "outputs": [],
   "source": [
    "(2*np.pi)**2"
   ]
  },
  {
   "cell_type": "code",
   "execution_count": null,
   "metadata": {
    "executionInfo": {
     "elapsed": 45,
     "status": "aborted",
     "timestamp": 1633799115912,
     "user": {
      "displayName": "",
      "photoUrl": "",
      "userId": ""
     },
     "user_tz": 180
    },
    "id": "gGYMfQjAAom4"
   },
   "outputs": [],
   "source": [
    "w[-3]"
   ]
  },
  {
   "cell_type": "code",
   "execution_count": null,
   "metadata": {
    "executionInfo": {
     "elapsed": 45,
     "status": "aborted",
     "timestamp": 1633799115913,
     "user": {
      "displayName": "",
      "photoUrl": "",
      "userId": ""
     },
     "user_tz": 180
    },
    "id": "EGQyX6xdAom4"
   },
   "outputs": [],
   "source": [
    "(3*np.pi)**2"
   ]
  },
  {
   "cell_type": "code",
   "execution_count": null,
   "metadata": {
    "executionInfo": {
     "elapsed": 45,
     "status": "aborted",
     "timestamp": 1633799115914,
     "user": {
      "displayName": "",
      "photoUrl": "",
      "userId": ""
     },
     "user_tz": 180
    },
    "id": "PLZpXwPJAom4"
   },
   "outputs": [],
   "source": [
    "w[-4]"
   ]
  },
  {
   "cell_type": "code",
   "execution_count": null,
   "metadata": {
    "executionInfo": {
     "elapsed": 46,
     "status": "aborted",
     "timestamp": 1633799115915,
     "user": {
      "displayName": "",
      "photoUrl": "",
      "userId": ""
     },
     "user_tz": 180
    },
    "id": "HvQ-adsGAom5"
   },
   "outputs": [],
   "source": [
    "(4*np.pi)**2"
   ]
  },
  {
   "cell_type": "markdown",
   "metadata": {
    "id": "Qv1EFCaOAom5"
   },
   "source": [
    "# Basic Datasets"
   ]
  },
  {
   "cell_type": "code",
   "execution_count": null,
   "metadata": {
    "id": "Sbkq_ON5Aom8",
    "outputId": "3262150e-94ae-4a21-c1d8-86402d4922ca"
   },
   "outputs": [
    {
     "ename": "ValueError",
     "evalue": "could not convert string to float: 'ï»¿Person,Height'",
     "output_type": "error",
     "traceback": [
      "\u001b[1;31m---------------------------------------------------------------------------\u001b[0m",
      "\u001b[1;31mValueError\u001b[0m                                Traceback (most recent call last)",
      "\u001b[1;32m<ipython-input-28-2f3818bc49a7>\u001b[0m in \u001b[0;36m<module>\u001b[1;34m\u001b[0m\n\u001b[1;32m----> 1\u001b[1;33m \u001b[0mdata\u001b[0m \u001b[1;33m=\u001b[0m \u001b[0mnp\u001b[0m\u001b[1;33m.\u001b[0m\u001b[0mloadtxt\u001b[0m\u001b[1;33m(\u001b[0m\u001b[1;34m'../../input/sample.csv'\u001b[0m\u001b[1;33m)\u001b[0m\u001b[1;33m\u001b[0m\u001b[1;33m\u001b[0m\u001b[0m\n\u001b[0m",
      "\u001b[1;32m~\\anaconda3\\lib\\site-packages\\numpy\\lib\\npyio.py\u001b[0m in \u001b[0;36mloadtxt\u001b[1;34m(fname, dtype, comments, delimiter, converters, skiprows, usecols, unpack, ndmin, encoding, max_rows)\u001b[0m\n\u001b[0;32m   1137\u001b[0m         \u001b[1;31m# converting the data\u001b[0m\u001b[1;33m\u001b[0m\u001b[1;33m\u001b[0m\u001b[1;33m\u001b[0m\u001b[0m\n\u001b[0;32m   1138\u001b[0m         \u001b[0mX\u001b[0m \u001b[1;33m=\u001b[0m \u001b[1;32mNone\u001b[0m\u001b[1;33m\u001b[0m\u001b[1;33m\u001b[0m\u001b[0m\n\u001b[1;32m-> 1139\u001b[1;33m         \u001b[1;32mfor\u001b[0m \u001b[0mx\u001b[0m \u001b[1;32min\u001b[0m \u001b[0mread_data\u001b[0m\u001b[1;33m(\u001b[0m\u001b[0m_loadtxt_chunksize\u001b[0m\u001b[1;33m)\u001b[0m\u001b[1;33m:\u001b[0m\u001b[1;33m\u001b[0m\u001b[1;33m\u001b[0m\u001b[0m\n\u001b[0m\u001b[0;32m   1140\u001b[0m             \u001b[1;32mif\u001b[0m \u001b[0mX\u001b[0m \u001b[1;32mis\u001b[0m \u001b[1;32mNone\u001b[0m\u001b[1;33m:\u001b[0m\u001b[1;33m\u001b[0m\u001b[1;33m\u001b[0m\u001b[0m\n\u001b[0;32m   1141\u001b[0m                 \u001b[0mX\u001b[0m \u001b[1;33m=\u001b[0m \u001b[0mnp\u001b[0m\u001b[1;33m.\u001b[0m\u001b[0marray\u001b[0m\u001b[1;33m(\u001b[0m\u001b[0mx\u001b[0m\u001b[1;33m,\u001b[0m \u001b[0mdtype\u001b[0m\u001b[1;33m)\u001b[0m\u001b[1;33m\u001b[0m\u001b[1;33m\u001b[0m\u001b[0m\n",
      "\u001b[1;32m~\\anaconda3\\lib\\site-packages\\numpy\\lib\\npyio.py\u001b[0m in \u001b[0;36mread_data\u001b[1;34m(chunk_size)\u001b[0m\n\u001b[0;32m   1065\u001b[0m \u001b[1;33m\u001b[0m\u001b[0m\n\u001b[0;32m   1066\u001b[0m             \u001b[1;31m# Convert each value according to its column and store\u001b[0m\u001b[1;33m\u001b[0m\u001b[1;33m\u001b[0m\u001b[1;33m\u001b[0m\u001b[0m\n\u001b[1;32m-> 1067\u001b[1;33m             \u001b[0mitems\u001b[0m \u001b[1;33m=\u001b[0m \u001b[1;33m[\u001b[0m\u001b[0mconv\u001b[0m\u001b[1;33m(\u001b[0m\u001b[0mval\u001b[0m\u001b[1;33m)\u001b[0m \u001b[1;32mfor\u001b[0m \u001b[1;33m(\u001b[0m\u001b[0mconv\u001b[0m\u001b[1;33m,\u001b[0m \u001b[0mval\u001b[0m\u001b[1;33m)\u001b[0m \u001b[1;32min\u001b[0m \u001b[0mzip\u001b[0m\u001b[1;33m(\u001b[0m\u001b[0mconverters\u001b[0m\u001b[1;33m,\u001b[0m \u001b[0mvals\u001b[0m\u001b[1;33m)\u001b[0m\u001b[1;33m]\u001b[0m\u001b[1;33m\u001b[0m\u001b[1;33m\u001b[0m\u001b[0m\n\u001b[0m\u001b[0;32m   1068\u001b[0m \u001b[1;33m\u001b[0m\u001b[0m\n\u001b[0;32m   1069\u001b[0m             \u001b[1;31m# Then pack it according to the dtype's nesting\u001b[0m\u001b[1;33m\u001b[0m\u001b[1;33m\u001b[0m\u001b[1;33m\u001b[0m\u001b[0m\n",
      "\u001b[1;32m~\\anaconda3\\lib\\site-packages\\numpy\\lib\\npyio.py\u001b[0m in \u001b[0;36m<listcomp>\u001b[1;34m(.0)\u001b[0m\n\u001b[0;32m   1065\u001b[0m \u001b[1;33m\u001b[0m\u001b[0m\n\u001b[0;32m   1066\u001b[0m             \u001b[1;31m# Convert each value according to its column and store\u001b[0m\u001b[1;33m\u001b[0m\u001b[1;33m\u001b[0m\u001b[1;33m\u001b[0m\u001b[0m\n\u001b[1;32m-> 1067\u001b[1;33m             \u001b[0mitems\u001b[0m \u001b[1;33m=\u001b[0m \u001b[1;33m[\u001b[0m\u001b[0mconv\u001b[0m\u001b[1;33m(\u001b[0m\u001b[0mval\u001b[0m\u001b[1;33m)\u001b[0m \u001b[1;32mfor\u001b[0m \u001b[1;33m(\u001b[0m\u001b[0mconv\u001b[0m\u001b[1;33m,\u001b[0m \u001b[0mval\u001b[0m\u001b[1;33m)\u001b[0m \u001b[1;32min\u001b[0m \u001b[0mzip\u001b[0m\u001b[1;33m(\u001b[0m\u001b[0mconverters\u001b[0m\u001b[1;33m,\u001b[0m \u001b[0mvals\u001b[0m\u001b[1;33m)\u001b[0m\u001b[1;33m]\u001b[0m\u001b[1;33m\u001b[0m\u001b[1;33m\u001b[0m\u001b[0m\n\u001b[0m\u001b[0;32m   1068\u001b[0m \u001b[1;33m\u001b[0m\u001b[0m\n\u001b[0;32m   1069\u001b[0m             \u001b[1;31m# Then pack it according to the dtype's nesting\u001b[0m\u001b[1;33m\u001b[0m\u001b[1;33m\u001b[0m\u001b[1;33m\u001b[0m\u001b[0m\n",
      "\u001b[1;32m~\\anaconda3\\lib\\site-packages\\numpy\\lib\\npyio.py\u001b[0m in \u001b[0;36mfloatconv\u001b[1;34m(x)\u001b[0m\n\u001b[0;32m    761\u001b[0m         \u001b[1;32mif\u001b[0m \u001b[1;34m'0x'\u001b[0m \u001b[1;32min\u001b[0m \u001b[0mx\u001b[0m\u001b[1;33m:\u001b[0m\u001b[1;33m\u001b[0m\u001b[1;33m\u001b[0m\u001b[0m\n\u001b[0;32m    762\u001b[0m             \u001b[1;32mreturn\u001b[0m \u001b[0mfloat\u001b[0m\u001b[1;33m.\u001b[0m\u001b[0mfromhex\u001b[0m\u001b[1;33m(\u001b[0m\u001b[0mx\u001b[0m\u001b[1;33m)\u001b[0m\u001b[1;33m\u001b[0m\u001b[1;33m\u001b[0m\u001b[0m\n\u001b[1;32m--> 763\u001b[1;33m         \u001b[1;32mreturn\u001b[0m \u001b[0mfloat\u001b[0m\u001b[1;33m(\u001b[0m\u001b[0mx\u001b[0m\u001b[1;33m)\u001b[0m\u001b[1;33m\u001b[0m\u001b[1;33m\u001b[0m\u001b[0m\n\u001b[0m\u001b[0;32m    764\u001b[0m \u001b[1;33m\u001b[0m\u001b[0m\n\u001b[0;32m    765\u001b[0m     \u001b[0mtyp\u001b[0m \u001b[1;33m=\u001b[0m \u001b[0mdtype\u001b[0m\u001b[1;33m.\u001b[0m\u001b[0mtype\u001b[0m\u001b[1;33m\u001b[0m\u001b[1;33m\u001b[0m\u001b[0m\n",
      "\u001b[1;31mValueError\u001b[0m: could not convert string to float: 'ï»¿Person,Height'"
     ]
    }
   ],
   "source": [
    "data = np.loadtxt('../../input/sample.csv')"
   ]
  },
  {
   "cell_type": "code",
   "execution_count": null,
   "metadata": {
    "id": "iIC6mvbBAom9",
    "outputId": "d890aa2b-3450-4d9c-cac7-eff52108e206"
   },
   "outputs": [
    {
     "data": {
      "text/plain": [
       "array(['ï»¿Person,Height', 'Jim,172', 'Mike,168', 'Bob,182', 'Susy,156',\n",
       "       'Tim,170', 'Frank,190'], dtype=object)"
      ]
     },
     "execution_count": 30,
     "metadata": {},
     "output_type": "execute_result"
    }
   ],
   "source": [
    "data = np.loadtxt('../../input/sample.csv', dtype='object')\n",
    "data"
   ]
  },
  {
   "cell_type": "code",
   "execution_count": null,
   "metadata": {
    "id": "gksci83BAom9",
    "outputId": "9a7b87a2-1488-4124-cd55-4f4974219130"
   },
   "outputs": [
    {
     "data": {
      "text/plain": [
       "array([['ï»¿Person', 'Height'],\n",
       "       ['Jim', '172'],\n",
       "       ['Mike', '168'],\n",
       "       ['Bob', '182'],\n",
       "       ['Susy', '156'],\n",
       "       ['Tim', '170'],\n",
       "       ['Frank', '190']], dtype=object)"
      ]
     },
     "execution_count": 31,
     "metadata": {},
     "output_type": "execute_result"
    }
   ],
   "source": [
    "data = np.loadtxt('../../input/sample.csv', dtype='object', delimiter=',')\n",
    "data"
   ]
  },
  {
   "cell_type": "code",
   "execution_count": null,
   "metadata": {
    "id": "nYxvkpyiAom-"
   },
   "outputs": [],
   "source": [
    "people, heights = np.loadtxt('../../input/sample.csv', dtype='object', delimiter=',', unpack=True)"
   ]
  },
  {
   "cell_type": "code",
   "execution_count": null,
   "metadata": {
    "id": "nPewh9T7Aom-",
    "outputId": "abdf704a-0b7c-4825-f2ed-bee09027fd88"
   },
   "outputs": [
    {
     "data": {
      "text/plain": [
       "array(['ï»¿Person', 'Jim', 'Mike', 'Bob', 'Susy', 'Tim', 'Frank'],\n",
       "      dtype=object)"
      ]
     },
     "execution_count": 33,
     "metadata": {},
     "output_type": "execute_result"
    }
   ],
   "source": [
    "people"
   ]
  },
  {
   "cell_type": "code",
   "execution_count": null,
   "metadata": {
    "id": "BOJ-AEZBAom_",
    "outputId": "722f028e-bfaf-4822-cb6c-1a7435a72f3c"
   },
   "outputs": [
    {
     "data": {
      "text/plain": [
       "array(['Height', '172', '168', '182', '156', '170', '190'], dtype=object)"
      ]
     },
     "execution_count": 34,
     "metadata": {},
     "output_type": "execute_result"
    }
   ],
   "source": [
    "heights"
   ]
  },
  {
   "cell_type": "code",
   "execution_count": null,
   "metadata": {
    "id": "s-AmJ35xAom_"
   },
   "outputs": [],
   "source": [
    "people, heights = np.loadtxt('../../input/sample.csv', dtype='object', delimiter=',', unpack=True, skiprows=1)"
   ]
  },
  {
   "cell_type": "code",
   "execution_count": null,
   "metadata": {
    "id": "BFEqz3MNAom_",
    "outputId": "1a310064-2283-4ae8-f8f0-c51bdbaa5382"
   },
   "outputs": [
    {
     "data": {
      "text/plain": [
       "array(['Jim', 'Mike', 'Bob', 'Susy', 'Tim', 'Frank'], dtype=object)"
      ]
     },
     "execution_count": 36,
     "metadata": {},
     "output_type": "execute_result"
    }
   ],
   "source": [
    "people"
   ]
  },
  {
   "cell_type": "code",
   "execution_count": null,
   "metadata": {
    "id": "fYzTDWo4AonA",
    "outputId": "fed84966-0688-48b6-92c7-5bf1d6c122e5"
   },
   "outputs": [
    {
     "data": {
      "text/plain": [
       "array(['172', '168', '182', '156', '170', '190'], dtype=object)"
      ]
     },
     "execution_count": 37,
     "metadata": {},
     "output_type": "execute_result"
    }
   ],
   "source": [
    "heights"
   ]
  },
  {
   "cell_type": "code",
   "execution_count": null,
   "metadata": {
    "id": "JIV-jGBoAonA"
   },
   "outputs": [],
   "source": [
    "people = people.astype(str)\n",
    "heights = heights.astype(float)"
   ]
  },
  {
   "cell_type": "code",
   "execution_count": null,
   "metadata": {
    "id": "ar16dbgdAonB",
    "outputId": "90e1ee78-54c6-4362-e0cf-bc5becf9f717"
   },
   "outputs": [
    {
     "data": {
      "text/plain": [
       "array(['Jim', 'Mike', 'Bob', 'Susy', 'Tim', 'Frank'], dtype='<U5')"
      ]
     },
     "execution_count": 40,
     "metadata": {},
     "output_type": "execute_result"
    }
   ],
   "source": [
    "people"
   ]
  },
  {
   "cell_type": "code",
   "execution_count": null,
   "metadata": {
    "id": "LBqqQTHzAonB",
    "outputId": "d5603bc2-0d04-42c7-c634-5c6de122561f"
   },
   "outputs": [
    {
     "data": {
      "text/plain": [
       "array([172., 168., 182., 156., 170., 190.])"
      ]
     },
     "execution_count": 41,
     "metadata": {},
     "output_type": "execute_result"
    }
   ],
   "source": [
    "heights"
   ]
  }
 ],
 "metadata": {
  "colab": {
   "name": "Copia de numpy_essentials.ipynb",
   "provenance": [
    {
     "file_id": "https://github.com/urigroisman/youtube_channel/blob/main/Python%20Tutorial%20Series/numpy_essentials.ipynb",
     "timestamp": 1633799159679
    }
   ]
  },
  "kernelspec": {
   "display_name": "Python 3",
   "language": "python",
   "name": "python3"
  },
  "language_info": {
   "codemirror_mode": {
    "name": "ipython",
    "version": 3
   },
   "file_extension": ".py",
   "mimetype": "text/x-python",
   "name": "python",
   "nbconvert_exporter": "python",
   "pygments_lexer": "ipython3",
   "version": "3.8.8"
  }
 },
 "nbformat": 4,
 "nbformat_minor": 4
}
